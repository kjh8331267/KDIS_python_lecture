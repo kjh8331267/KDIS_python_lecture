{
  "nbformat": 4,
  "nbformat_minor": 0,
  "metadata": {
    "colab": {
      "provenance": [],
      "include_colab_link": true
    },
    "kernelspec": {
      "name": "python3",
      "display_name": "Python 3"
    },
    "language_info": {
      "name": "python"
    }
  },
  "cells": [
    {
      "cell_type": "markdown",
      "metadata": {
        "id": "view-in-github",
        "colab_type": "text"
      },
      "source": [
        "<a href=\"https://colab.research.google.com/github/kjh8331267/KDIS_python_lecture/blob/main/3_lab_practice.ipynb\" target=\"_parent\"><img src=\"https://colab.research.google.com/assets/colab-badge.svg\" alt=\"Open In Colab\"/></a>"
      ]
    },
    {
      "cell_type": "markdown",
      "metadata": {
        "id": "xCcENZ8wk1A1"
      },
      "source": [
        "# Data Types\n",
        "\n",
        "Today, we learned different data types in Python and how to manage and process them, such as converting types and applying existing functions --- called \"methods\". Now, it's time for you to play with them! Let's begin from the easiest ones: integer and float.\n",
        "\n",
        "\n",
        "## 1. Integer & Float\n",
        "\n",
        "- Integer: numbers without a decimal point\n",
        "- Float: real numbers with decimal point\n",
        "\n",
        "Although there is a way to process complex numbers in Python (for example, you can check [here](https://stackoverflow.com/questions/8370637/complex-numbers-in-python)), we rarely can see those numbers in real data so we can skip it for now.\n",
        "\n",
        "\n",
        "\n",
        "### (1) Assign values into variables and check the types of them\n",
        "We begin from putting integer and float values into variables, and print them and their types.\n",
        "Use the `print()` function we learned in the last practice (Google how to use it if you already forgot about it..), put the number 3483 into a variable named `int_ex_num` and print it.\n"
      ]
    },
    {
      "cell_type": "code",
      "metadata": {
        "id": "Nz48lJbSPfIX",
        "colab": {
          "base_uri": "https://localhost:8080/"
        },
        "outputId": "9927d19e-f467-407b-cff3-544640ca0bc3"
      },
      "source": [
        "# put the number 3483 into a variable named int_ex_num\n",
        "intnum = 29857\n",
        "print(intnum)\n",
        "\n",
        "# print the variable\n",
        "int_ex_num  =  3483\n",
        "print(int_ex_num)"
      ],
      "execution_count": 7,
      "outputs": [
        {
          "output_type": "stream",
          "name": "stdout",
          "text": [
            "29857\n",
            "3483\n"
          ]
        }
      ]
    },
    {
      "cell_type": "markdown",
      "metadata": {
        "id": "-oKxhUeAGQSw"
      },
      "source": [
        "Great! Then, using the function `type()`, print the type of the variable, so we can check whether 3483 is an integer or a float."
      ]
    },
    {
      "cell_type": "code",
      "metadata": {
        "id": "Wn9brocJGP5A",
        "colab": {
          "base_uri": "https://localhost:8080/"
        },
        "outputId": "ee6bbcb1-27d9-4eb4-d9ae-2cd035411238"
      },
      "source": [
        "intnum = 298572\n",
        "print(type(int_ex_num))"
      ],
      "execution_count": 8,
      "outputs": [
        {
          "output_type": "stream",
          "name": "stdout",
          "text": [
            "<class 'int'>\n"
          ]
        }
      ]
    },
    {
      "cell_type": "markdown",
      "metadata": {
        "id": "-X6o0TBkF_na"
      },
      "source": [
        "Similarly, now put the number 31.434 into a variable named `float_ex_num` and print (1) the variable, and (2) the type of the variable."
      ]
    },
    {
      "cell_type": "code",
      "metadata": {
        "id": "ilo34Ry_FWSc",
        "colab": {
          "base_uri": "https://localhost:8080/"
        },
        "outputId": "b6993c8a-23ce-43b1-fc95-8456c573beb9"
      },
      "source": [
        "# put the number 31.434 into a variable named float_ex_num\n",
        "float_ex_num = 31.434\n",
        "\n",
        "# print the variable\n",
        "print(float_ex_num)\n",
        "\n",
        "# print the type of the variable\n",
        "print(type(float_ex_num))\n",
        "\n"
      ],
      "execution_count": 9,
      "outputs": [
        {
          "output_type": "stream",
          "name": "stdout",
          "text": [
            "31.434\n",
            "<class 'float'>\n"
          ]
        }
      ]
    },
    {
      "cell_type": "markdown",
      "metadata": {
        "id": "ImkkoWF3H0H_"
      },
      "source": [
        "### (2) Convert types between integer and float\n",
        "\n",
        "`int()` function makes a float to an integer, by ignoring the part after decimal point. For example, `float_ex_num` becomes 31 if you apply `int()` function. Can you show this magic by printing the result of the variable after applying the `int()` function?"
      ]
    },
    {
      "cell_type": "code",
      "metadata": {
        "id": "XHBmAtPThych",
        "colab": {
          "base_uri": "https://localhost:8080/"
        },
        "outputId": "e5f52809-7c34-4a11-e5db-20325e991fd7"
      },
      "source": [
        "# From float to integer: int()\n",
        "floatnum = 8325.9328\n",
        "print(int(float_ex_num ))"
      ],
      "execution_count": 10,
      "outputs": [
        {
          "output_type": "stream",
          "name": "stdout",
          "text": [
            "31\n"
          ]
        }
      ]
    },
    {
      "cell_type": "markdown",
      "metadata": {
        "id": "kvtGrSHUM2Ji"
      },
      "source": [
        "Similarly, you can convert an integer to float by using `float()` function. Can you convert `int_ex_num` to a float and print it?"
      ]
    },
    {
      "cell_type": "code",
      "metadata": {
        "id": "LrH6J8lqhx_9",
        "colab": {
          "base_uri": "https://localhost:8080/"
        },
        "outputId": "21dbaedb-96d8-4d4b-9336-9e6923164dc6"
      },
      "source": [
        "# From integer to float: float()\n",
        "intnum = 92358\n",
        "print(float(int_ex_num ))"
      ],
      "execution_count": 12,
      "outputs": [
        {
          "output_type": "stream",
          "name": "stdout",
          "text": [
            "3483.0\n"
          ]
        }
      ]
    },
    {
      "cell_type": "markdown",
      "metadata": {
        "id": "5SYyFZ9VN8-C"
      },
      "source": [
        "Finally, for a float value, you can change the length of decimal place by using `round()` function. For example, put 3.141592 and 2 as parameters of `round()` function, you can make the number become 3.14. Can you try it, and print the result?"
      ]
    },
    {
      "cell_type": "code",
      "metadata": {
        "id": "wZ0Fw9CNUR9z",
        "colab": {
          "base_uri": "https://localhost:8080/"
        },
        "outputId": "71f93885-9ee0-4ed2-f1d2-b93f08056ea3"
      },
      "source": [
        "# Changing the length of decimal points: round()\n",
        "floatnum = 3.141592\n",
        "print(round(floatnum,2))\n",
        "print(round(floatnum, 4))\n"
      ],
      "execution_count": 15,
      "outputs": [
        {
          "output_type": "stream",
          "name": "stdout",
          "text": [
            "3.14\n",
            "3.1416\n"
          ]
        }
      ]
    },
    {
      "cell_type": "markdown",
      "metadata": {
        "id": "aI3DV4UilAHR"
      },
      "source": [
        "## 2. Boolean\n",
        "\n",
        "There are only two possible values in Boolean format: `True` and `False`. As emphasized in the lecture, write the first letter for each value --- T and F --- in capital letters is important!\n",
        "\n",
        "Let's create a variable named `bool_ex` and put `True` value into the variable."
      ]
    },
    {
      "cell_type": "code",
      "metadata": {
        "id": "8N-ICUGlTOky",
        "colab": {
          "base_uri": "https://localhost:8080/"
        },
        "outputId": "36d25d25-ab9d-4e31-8cca-30a6c2a547a7"
      },
      "source": [
        "bool_ex = True\n",
        "print(bool_ex)"
      ],
      "execution_count": 16,
      "outputs": [
        {
          "output_type": "stream",
          "name": "stdout",
          "text": [
            "True\n"
          ]
        }
      ]
    },
    {
      "cell_type": "markdown",
      "metadata": {
        "id": "194ydXpETSEu"
      },
      "source": [
        "Print the type of `bool_ex` to check if Python recognized it as a Boolean value."
      ]
    },
    {
      "cell_type": "code",
      "metadata": {
        "id": "O_JyB_hglRS-",
        "colab": {
          "base_uri": "https://localhost:8080/"
        },
        "outputId": "be2ec7cc-f148-44ee-e05d-0517e479246b"
      },
      "source": [
        "bool_ex = False\n",
        "print(type(bool_ex))"
      ],
      "execution_count": 17,
      "outputs": [
        {
          "output_type": "stream",
          "name": "stdout",
          "text": [
            "<class 'bool'>\n"
          ]
        }
      ]
    },
    {
      "cell_type": "markdown",
      "metadata": {
        "id": "uHSx_2sAT3Jg"
      },
      "source": [
        "## 3. String\n",
        "\n",
        "Finally, it's the time to practice about processing strings, which is one of the most common data types, when you actually become to deal with data --- name, address, social media contents, comments, policy documents, and etc., especially if you utilize Natural Language Processing (NLP) algorithms later.\n",
        "\n",
        "### (1) Assign values into variables and check the types of them\n",
        "\n",
        "Before trying various string methods in Python, let's begin from the tasks that we've done for integer and float: (1) Put the string \"My name is (your name)\" into a variable named `str_ex` and print it, and (2) print the type of `str_ex`."
      ]
    },
    {
      "cell_type": "code",
      "metadata": {
        "id": "o9HUZ5VVcN4g",
        "colab": {
          "base_uri": "https://localhost:8080/"
        },
        "outputId": "5da2fee1-5a65-4a64-cb9e-6f3c21329966"
      },
      "source": [
        "# put the string above into a variale str_ex\n",
        "string_ex = \"My name is haha\"\n",
        "print(string_ex)\n",
        "\n",
        "# print the type of it using type()\n",
        "print(type(string_ex))\n"
      ],
      "execution_count": 18,
      "outputs": [
        {
          "output_type": "stream",
          "name": "stdout",
          "text": [
            "My name is haha\n",
            "<class 'str'>\n"
          ]
        }
      ]
    },
    {
      "cell_type": "markdown",
      "metadata": {
        "id": "33im3GALdXeS"
      },
      "source": [
        "### (2) Convert strings consisting of numbers into integer or float\n",
        "\n",
        "As you did above, you can apply `int()` and `float()` functions to convert strings that only consist of numbers into integer and float, respectively.\n",
        "\n",
        "Using the variables that I already assigned string values, add `str_a` and `str_b` as integers, by converting them to integers.\n",
        "\n",
        "Similarly, add `str_c` and `str_d` after converting them to float types."
      ]
    },
    {
      "cell_type": "code",
      "metadata": {
        "id": "ZIazEy9l3IDX",
        "colab": {
          "base_uri": "https://localhost:8080/"
        },
        "outputId": "ace4fee5-d5af-4ced-cab6-c06a0f196f10"
      },
      "source": [
        "# Add them as integers\n",
        "str_a = \"2\"\n",
        "str_b = \"5\"\n",
        "print(int(str_a) + int(str_b))\n",
        "\n",
        "# Add them as floats\n",
        "str_c = \"2.1\"\n",
        "str_d = \"3.4\"\n",
        "value = float(str_c) + float(str_d)\n",
        "print(value)\n",
        "\n"
      ],
      "execution_count": 22,
      "outputs": [
        {
          "output_type": "stream",
          "name": "stdout",
          "text": [
            "7\n",
            "5.5\n"
          ]
        }
      ]
    },
    {
      "cell_type": "markdown",
      "metadata": {
        "id": "9NXkPFtfiW1Z"
      },
      "source": [
        "### (3) String Methods\n",
        "\n",
        "As we've seen during today's lecture, there are many functions (called methods, although there're some differences between function and method, which we will deal with later when learning class in Python) for strings. If you can use them well in appropriate situations, they are super powerful in text analyses.\n",
        "\n",
        "Since there are a lot of those functions, probably it would be difficult for you to remember all of them. Hence, I'd recommend you to use Google and Stackoverflow (as I emphasized before) whenever you forgot the name of the method while you know it exists.\n",
        "\n",
        "Let's set up a target string that we can try different methods to!\n",
        "\n"
      ]
    },
    {
      "cell_type": "code",
      "metadata": {
        "id": "b512_NVpkx7M",
        "colab": {
          "base_uri": "https://localhost:8080/"
        },
        "outputId": "c5d211c6-dd6a-4c84-a334-b5482ee8217e"
      },
      "source": [
        "target_str_pt1 = \"thIs Is A tarGeT sTring.\"\n",
        "\n",
        "target_string = \"this is My Target stRING\"\n",
        "\n",
        "print(target_string.upper())\n",
        "print(target_string.lower())\n",
        "print(target_string.capitalize())\n",
        "print(target_string.title())"
      ],
      "execution_count": 24,
      "outputs": [
        {
          "output_type": "stream",
          "name": "stdout",
          "text": [
            "THIS IS MY TARGET STRING\n",
            "this is my target string\n",
            "This is my target string\n",
            "This Is My Target String\n"
          ]
        }
      ]
    },
    {
      "cell_type": "markdown",
      "metadata": {
        "id": "x3emNV3Zkxmi"
      },
      "source": [
        "#### a. `upper()` / `lower()` / `capitalize()` / `title()`"
      ]
    },
    {
      "cell_type": "code",
      "metadata": {
        "id": "5ky-jsLB5WZU",
        "colab": {
          "base_uri": "https://localhost:8080/"
        },
        "outputId": "f91e3de3-92f7-4bc0-c60d-fe08d563ee9b"
      },
      "source": [
        "# Print upper_str where all letters are capital letters, using upper()\n",
        "upper_str = target_str_pt1.upper()\n",
        "print(upper_str)\n",
        "\n",
        "# Print lower_str where all letters are lower letters, using lower()\n",
        "lower_str = target_str_pt1.lower()\n",
        "print(lower_str)\n",
        "\n",
        "# Print cap_str where the sentence is capitalized, using capitalize()\n",
        "cap_str =target_str_pt1.capitalize()\n",
        "print(cap_str)\n",
        "\n",
        "# Print title_str where the first letters of all words are capital letters, using title()\n",
        "title_str =target_str_pt1.title()\n",
        "print(title_str)"
      ],
      "execution_count": 25,
      "outputs": [
        {
          "output_type": "stream",
          "name": "stdout",
          "text": [
            "THIS IS A TARGET STRING.\n",
            "this is a target string.\n",
            "This is a target string.\n",
            "This Is A Target String.\n"
          ]
        }
      ]
    },
    {
      "cell_type": "markdown",
      "metadata": {
        "id": "-rdPROtLluVo"
      },
      "source": [
        "#### b. `strip()` / `split()`"
      ]
    },
    {
      "cell_type": "code",
      "metadata": {
        "id": "AiOHZAL0tPuv"
      },
      "source": [
        "target_str_pt2 = \"    thIs Is A tarGeT sTring.    \""
      ],
      "execution_count": 26,
      "outputs": []
    },
    {
      "cell_type": "code",
      "metadata": {
        "id": "Iv9wUInNzPD3",
        "colab": {
          "base_uri": "https://localhost:8080/"
        },
        "outputId": "dfadd044-cff9-4d0b-8329-7e8a12c74b27"
      },
      "source": [
        "# Print the target strings after removing the spaces before and after the sentence using strip()\n",
        "strip_str =target_str_pt2.strip()\n",
        "\n",
        "print(strip_str)"
      ],
      "execution_count": 27,
      "outputs": [
        {
          "output_type": "stream",
          "name": "stdout",
          "text": [
            "thIs Is A tarGeT sTring.\n"
          ]
        }
      ]
    },
    {
      "cell_type": "code",
      "metadata": {
        "id": "uTm2uRiw1VMc",
        "colab": {
          "base_uri": "https://localhost:8080/"
        },
        "outputId": "e7bc2bfe-82e6-4d32-bdab-52ad8eccbf7c"
      },
      "source": [
        "# Print the list of words in our target string, using split()\n",
        "word_list = target_str_pt2.split()\n",
        "\n",
        "print(word_list)"
      ],
      "execution_count": 28,
      "outputs": [
        {
          "output_type": "stream",
          "name": "stdout",
          "text": [
            "['thIs', 'Is', 'A', 'tarGeT', 'sTring.']\n"
          ]
        }
      ]
    },
    {
      "cell_type": "markdown",
      "metadata": {
        "id": "3owMaJKmH_l3"
      },
      "source": [
        "#### c. `join()`"
      ]
    },
    {
      "cell_type": "code",
      "metadata": {
        "id": "kQpfoTaF1eZc",
        "colab": {
          "base_uri": "https://localhost:8080/"
        },
        "outputId": "fa247d83-2027-4bdd-8bae-36c8d232d420"
      },
      "source": [
        "# Print the original sentence (but without spaces around), recovered from word_list, using join()\n",
        "joined_str = ' '.join(word_list)\n",
        "\n",
        "print(joined_str)\n"
      ],
      "execution_count": 29,
      "outputs": [
        {
          "output_type": "stream",
          "name": "stdout",
          "text": [
            "thIs Is A tarGeT sTring.\n"
          ]
        }
      ]
    },
    {
      "cell_type": "code",
      "metadata": {
        "id": "AKI3C0542O3Z",
        "colab": {
          "base_uri": "https://localhost:8080/"
        },
        "outputId": "7900c1b1-6d5b-4eac-96cc-4f5c86fbba7a"
      },
      "source": [
        "# Print a new target string, where \"A tarGeT\" becomes \"Another tarGeT\", using replace() to our target string\n",
        "new_target_str =target_str_pt2.replace('A tarGeT', 'Another tarGeT')\n",
        "\n",
        "print(new_target_str)"
      ],
      "execution_count": 30,
      "outputs": [
        {
          "output_type": "stream",
          "name": "stdout",
          "text": [
            "    thIs Is Another tarGeT sTring.    \n"
          ]
        }
      ]
    }
  ]
}