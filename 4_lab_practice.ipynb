{
  "nbformat": 4,
  "nbformat_minor": 0,
  "metadata": {
    "colab": {
      "provenance": [],
      "include_colab_link": true
    },
    "kernelspec": {
      "name": "python3",
      "display_name": "Python 3"
    },
    "language_info": {
      "name": "python"
    }
  },
  "cells": [
    {
      "cell_type": "markdown",
      "metadata": {
        "id": "view-in-github",
        "colab_type": "text"
      },
      "source": [
        "<a href=\"https://colab.research.google.com/github/kjh8331267/KDIS_python_lecture/blob/main/4_lab_practice.ipynb\" target=\"_parent\"><img src=\"https://colab.research.google.com/assets/colab-badge.svg\" alt=\"Open In Colab\"/></a>"
      ]
    },
    {
      "cell_type": "markdown",
      "metadata": {
        "id": "dROfMMmCRnHI"
      },
      "source": [
        "# Data Structure\n",
        "\n",
        "Today, we study how Python deals with a group of data values using different data structure. As we checked, you have to decide what data structure you will use to process your records, depending on your goal and basic stucture of your raw records.\n",
        "\n",
        "Here, to make you feel more comfortable to different types of data structure, we will play with them. First, create different types of data structure by yourself, following the instruction.  \n",
        "\n"
      ]
    },
    {
      "cell_type": "markdown",
      "metadata": {
        "id": "ePFF4mtvR8OM"
      },
      "source": [
        "## 1. Create a List, Tuple, Set, and Dictionary\n",
        "\n",
        "### (1) List\n",
        "\n",
        "- General Purpose\n",
        "- Most widely used structure in Python\n",
        "- Available to add & delete items\n",
        "- Sequence type (can do indexing)\n",
        "- Sortable\n"
      ]
    },
    {
      "cell_type": "code",
      "source": [
        "a = [' asdf', 'as', 'asd']\n",
        "a[0:1]\n",
        "max(a)\n",
        "\n",
        "a = {'as':123, 'qw':'adsf'}\n",
        "a.get(123, 'asdfww')"
      ],
      "metadata": {
        "colab": {
          "base_uri": "https://localhost:8080/",
          "height": 35
        },
        "id": "cnAgIlvNYwxm",
        "outputId": "8a5139f6-177c-49e2-ead3-5ffc9d920c2a"
      },
      "execution_count": 13,
      "outputs": [
        {
          "output_type": "execute_result",
          "data": {
            "text/plain": [
              "'asdfww'"
            ],
            "application/vnd.google.colaboratory.intrinsic+json": {
              "type": "string"
            }
          },
          "metadata": {},
          "execution_count": 13
        }
      ]
    },
    {
      "cell_type": "code",
      "metadata": {
        "id": "9Ccuhg04Rm1u",
        "colab": {
          "base_uri": "https://localhost:8080/"
        },
        "outputId": "5a4ee6c3-4b5f-4b8b-85a6-6c1ebc9b008d"
      },
      "source": [
        "# Create a list of the five colors you most like\n",
        "\n",
        "favorite_colors = ['pink', 'white', 'black']\n",
        "\n",
        "print(favorite_colors)"
      ],
      "execution_count": 14,
      "outputs": [
        {
          "output_type": "stream",
          "name": "stdout",
          "text": [
            "['pink', 'white', 'black']\n"
          ]
        }
      ]
    },
    {
      "cell_type": "markdown",
      "metadata": {
        "id": "Nuld3HfxSlWU"
      },
      "source": [
        "### (2) Tuple\n",
        "\n",
        "- Immutable (can’t add & delete items)\n",
        "- Useful for fixed data\n",
        "- Faster than list\n",
        "- Sequence type  (can do indexing)\n"
      ]
    },
    {
      "cell_type": "code",
      "metadata": {
        "id": "uQ844fWNRmyv",
        "colab": {
          "base_uri": "https://localhost:8080/"
        },
        "outputId": "a867c4ce-f26b-4134-8972-86d2b987a061"
      },
      "source": [
        "# Now, what about you also decide the name of you variable?\n",
        "# Create a tuple consisting of four cities in your country and store it to the variable you name.\n",
        "tuple = ('korea', 'kim jihyeon')\n",
        "\n",
        "# Print the tuple\n",
        "print(tuple)"
      ],
      "execution_count": 16,
      "outputs": [
        {
          "output_type": "stream",
          "name": "stdout",
          "text": [
            "('korea', 'kim jihyeon')\n"
          ]
        }
      ]
    },
    {
      "cell_type": "markdown",
      "metadata": {
        "id": "-mZ8oRwccyZN"
      },
      "source": [
        "### (3) Set\n",
        "\n",
        "- Store non-duplicate items\n",
        "- Much faster than list to access\n",
        "- Set methods are available (union, intersect)\n",
        "- Unordered\n",
        "\n",
        "Since the set in Python only includes unique items, we mostly use `set()` function to convert a list or a tuple --- which can include duplicated items --- to a set.\n",
        "\n",
        "Here, I will give you a list named `random_colors`, in which I just put the colors poped in my mind now, so you apply the `set()` function to conver it to a set with a variable named by yourself."
      ]
    },
    {
      "cell_type": "code",
      "metadata": {
        "id": "4ERVHgxLRmvr",
        "colab": {
          "base_uri": "https://localhost:8080/"
        },
        "outputId": "872833c5-6342-4150-e719-a94d76535a47"
      },
      "source": [
        "random_colors = [\"red\", \"green\", \"gray\", \"red\", \"orange\", \"pink\", \"orange\", \"red\"]\n",
        "\n",
        "# Convert it to a set using set() function\n",
        "set_random_colors = set(random_colors)\n",
        "# Print the set\n",
        "print(set_random_colors)"
      ],
      "execution_count": 17,
      "outputs": [
        {
          "output_type": "stream",
          "name": "stdout",
          "text": [
            "{'pink', 'red', 'gray', 'orange', 'green'}\n"
          ]
        }
      ]
    },
    {
      "cell_type": "markdown",
      "metadata": {
        "id": "MsvkBfK5yVQM"
      },
      "source": [
        "### (4) Dictionary\n",
        "\n",
        "- Store non-duplicate items\n",
        "- Much faster than list to access\n",
        "- Set methods are available (union, intersect)\n",
        "- Unordered\n",
        "\n",
        "As we learned, dictionary in Python has a different format from other sequential types, such as tuple and list. It consists of two parts --- key and value --- so it is appropriate form of data structure when you have a relational data.\n",
        "\n",
        "Let's create a dictionary, where __keys__ are the __names of your five close friends__ and __values__ are their __ages__.\n"
      ]
    },
    {
      "cell_type": "code",
      "metadata": {
        "id": "N7JYHWLwRms4",
        "colab": {
          "base_uri": "https://localhost:8080/"
        },
        "outputId": "65abfb62-d865-48b5-b770-a5665c980cf7"
      },
      "source": [
        "# Create a dictionary by typing your friends and their ages in the dictionary format: {key1: value1, key2: value2 ...}\n",
        "close_friends = {'a':30, 'b':29}\n",
        "print(close_friends)"
      ],
      "execution_count": 18,
      "outputs": [
        {
          "output_type": "stream",
          "name": "stdout",
          "text": [
            "{'a': 30, 'b': 29}\n"
          ]
        }
      ]
    },
    {
      "cell_type": "code",
      "metadata": {
        "id": "NsniJSV4RmVd"
      },
      "source": [],
      "execution_count": null,
      "outputs": []
    },
    {
      "cell_type": "markdown",
      "metadata": {
        "id": "zNbrG96-7MeD"
      },
      "source": [
        "Okay, now it seems we are ready to play with different data structure. Let's begin!\n"
      ]
    },
    {
      "cell_type": "markdown",
      "metadata": {
        "id": "xCcENZ8wk1A1"
      },
      "source": [
        "\n",
        "## 2. Basic Operations for Sequences\n",
        "\n",
        "### (1) Indexing\n",
        "\n",
        "Indexing is to access a specific item with its position. Again, always remember that __the index number in Python starts from zero__. Thus, if you want to extract the fourth item in a list, the index number you should input is not 4 but 3 (index 0 for the first item, index 1 for the second item, ...).\n"
      ]
    },
    {
      "cell_type": "code",
      "metadata": {
        "id": "Nz48lJbSPfIX",
        "colab": {
          "base_uri": "https://localhost:8080/"
        },
        "outputId": "43586a7e-c377-4420-eb5b-01a43c8e387b"
      },
      "source": [
        "# Print the first color in the list of your favorite colors\n",
        "print(favorite_colors[0])\n",
        "# Print the third color in the list of your favorite colors\n",
        "print(favorite_colors[2])"
      ],
      "execution_count": 20,
      "outputs": [
        {
          "output_type": "stream",
          "name": "stdout",
          "text": [
            "pink\n",
            "black\n"
          ]
        }
      ]
    },
    {
      "cell_type": "markdown",
      "metadata": {
        "id": "-6KkXmZT9A78"
      },
      "source": [
        "Let's play with our tuple!"
      ]
    },
    {
      "cell_type": "code",
      "metadata": {
        "id": "NFobfI3ZSnv2"
      },
      "source": [
        "# Print the first city in your tuple created in 1.(2)\n",
        "\n",
        "# Print the second LAST in your tuple (Use a negative index number)\n"
      ],
      "execution_count": null,
      "outputs": []
    },
    {
      "cell_type": "markdown",
      "metadata": {
        "id": "FKAuuMbLTaCr"
      },
      "source": [
        "### (2) Slicing\n",
        "\n",
        "By setting a range of index, we can extract the items in a specific range in a sequence (string, tuple, and list). Let's practice slicing with a string. Create a variable named `your_name` and store your full name."
      ]
    },
    {
      "cell_type": "code",
      "metadata": {
        "id": "XHBmAtPThych"
      },
      "source": [],
      "execution_count": null,
      "outputs": []
    },
    {
      "cell_type": "code",
      "metadata": {
        "id": "LrH6J8lqhx_9"
      },
      "source": [
        "# Print all the characters located between the second letter to the last letter.\n",
        "\n",
        "# Print all the characters located after the third letter, using a negative index number.\n"
      ],
      "execution_count": null,
      "outputs": []
    },
    {
      "cell_type": "markdown",
      "metadata": {
        "id": "bPxiIA7M0YQs"
      },
      "source": [
        "### (3) Adding / Concatenating\n",
        "\n",
        "You can add two strings or sequences in the same type using `+` sign."
      ]
    },
    {
      "cell_type": "code",
      "metadata": {
        "id": "tA91qcIF0ZkK"
      },
      "source": [
        "# Add the list \"favorite_colors\" and the list \"random_colors\" and print the result\n",
        "\n",
        "merged_color_list ="
      ],
      "execution_count": null,
      "outputs": []
    },
    {
      "cell_type": "markdown",
      "metadata": {
        "id": "aI3DV4UilAHR"
      },
      "source": [
        "## 3. Functions and Methods for Strings and Sequences"
      ]
    },
    {
      "cell_type": "markdown",
      "metadata": {
        "id": "v6VOe2QPF9EB"
      },
      "source": [
        "### (1) Length\n",
        "\n",
        "With `len()` function, you can check the length of a string or a sequence. Let's try!"
      ]
    },
    {
      "cell_type": "code",
      "metadata": {
        "id": "o9HUZ5VVcN4g"
      },
      "source": [
        "# Print the length of the variable \"your_name\" that you created in 2.(2)\n",
        "\n",
        "# Also, print the length of \"merged_color_list\" in 2.(3)\n"
      ],
      "execution_count": null,
      "outputs": []
    },
    {
      "cell_type": "markdown",
      "metadata": {
        "id": "So73OhNgHqhP"
      },
      "source": [
        "### (2) Minimum and Maximum Values\n",
        "\n",
        "With `min()` and `max()` functions, you can easily find the minumum and maximum values in a string or a sequence. For a string or a sequence of string, the minimum and maximum values stand for the earliest and latest characters in the alphabetical order. For instance, in the list [\"a\", \"z\", \"ab\", \"b\"], the minimum and maximum elements would be \"a\" and \"z\", respectively."
      ]
    },
    {
      "cell_type": "code",
      "metadata": {
        "id": "ZIazEy9l3IDX"
      },
      "source": [
        "# Print the minimum value in the list of \"merged_color_list\" in 2.(3)\n",
        "\n",
        "# Print the maximum value in the following list.\n",
        "random_numbers = [4, 5, 1, 4, 6, 9, 0]\n",
        "\n"
      ],
      "execution_count": null,
      "outputs": []
    },
    {
      "cell_type": "markdown",
      "metadata": {
        "id": "Y4TPdNriJqdj"
      },
      "source": [
        "### (3) Sum\n",
        "\n",
        "Using `sum()` function, you can add up all the elements in a sequence, if all elements are numeric (integer or float)."
      ]
    },
    {
      "cell_type": "code",
      "metadata": {
        "id": "O_JyB_hglRS-"
      },
      "source": [
        "# Print the sum of all numbers in the above list, \"random_numbers\"\n"
      ],
      "execution_count": null,
      "outputs": []
    },
    {
      "cell_type": "markdown",
      "metadata": {
        "id": "U8mfBqHIKijA"
      },
      "source": [
        "### (4) Sorting\n",
        "\n",
        "One of `sorting()` or `sorted()` allows us to sort a sequence based on numerical or alphabetical order depending on the type of the elements in the sequence. Which one is the right name of the function? Who knows it? Yep, Google knows it. haha\n",
        "\n",
        "Do some googling to find the right name of the function and go for applying it!"
      ]
    },
    {
      "cell_type": "code",
      "metadata": {
        "id": "uju6NQuiltNt"
      },
      "source": [
        "# Print the sorted list of \"random_numbers\"\n"
      ],
      "execution_count": null,
      "outputs": []
    },
    {
      "cell_type": "markdown",
      "metadata": {
        "id": "MDE7l7TZLNkH"
      },
      "source": [
        "### (5) Counting\n",
        "\n",
        "`count()` function allows to count the number of a character (for a string) or a specific element (for a sequence).\n",
        "\n",
        "Do you remember the `join()` function we learned in the last class, which join a list of strings? Let's start from creating a long string by joining all the cities in your tuple in 1.(2)"
      ]
    },
    {
      "cell_type": "code",
      "metadata": {
        "id": "AqRy3oGNmDNz"
      },
      "source": [
        "# Create a long string consists of the cities in your country\n",
        "city_names =\n",
        "\n",
        "# Then, count the number of the vowels \"e\" and \"o\" in the above \"city_names\", and print the result.\n",
        "\n"
      ],
      "execution_count": null,
      "outputs": []
    },
    {
      "cell_type": "markdown",
      "metadata": {
        "id": "9NXkPFtfiW1Z"
      },
      "source": [
        "## 4. Methods for Set\n",
        "\n",
        "### (1) One Quick Tip to Distinguish Function and Method\n",
        "\n",
        "Now it's time to check the methods for Python sets. Maybe it's a good time to quickly check __the difference between function and method__, especially when you use them. Let's assume that you have a variable `x` (this can be a string, or a list, or an integer, or whatever), to which you are about to apply an imaginary function called `func()` and another imaginary method called `meth()`.\n",
        "\n",
        "Generally, the command for appyling a __function__ to a target variable `x` looks like:\n",
        "\n",
        "__`func(x, param1, param2, ...)`__\n",
        "\n",
        "However, the command for applying a __method__ to a target variable `x` looks like:\n",
        "\n",
        "__`x.meth(param1, param2, ...)`__\n",
        "\n",
        ", while `param1`, `param2`, ... are the parameters if you need to set.\n",
        "\n",
        "Can you see the difference? Let's compare the functions above with the methods below to check whether they actually look like as described!\n",
        "\n"
      ]
    },
    {
      "cell_type": "markdown",
      "metadata": {
        "id": "BWFTM-YPDkMe"
      },
      "source": [
        "### (2) Creating Sets From Lists\n",
        "\n",
        "Before working on sets, we need some sets to play with. Using the function `set()`, which convert a sequence to a set, change the lists `favorite_colors` and `random_colors` to two sets, respectively."
      ]
    },
    {
      "cell_type": "code",
      "metadata": {
        "id": "NFG32gy8Djul"
      },
      "source": [
        "# Create two sets from the two list \"favorite_colors\" and \"random_colors\" using set() function.\n",
        "fav_cols_set =\n",
        "rand_cols_set ="
      ],
      "execution_count": null,
      "outputs": []
    },
    {
      "cell_type": "markdown",
      "metadata": {
        "id": "7sDFz0BFRGTL"
      },
      "source": [
        "### (2) Intersection\n",
        "Sets in Python has a method called `intersection()` to check what elements are common in two given sets. Let's check if there exists a common color between `fav_cols_set` and `rand_cols_set`."
      ]
    },
    {
      "cell_type": "code",
      "metadata": {
        "id": "5ky-jsLB5WZU"
      },
      "source": [
        "# Print the common colors of \"fav_cols_set\" and \"rand_cols_set\" using intersection() method.\n"
      ],
      "execution_count": null,
      "outputs": []
    },
    {
      "cell_type": "markdown",
      "metadata": {
        "id": "PnFWnn8eTJBE"
      },
      "source": [
        "### (3) Union\n",
        "\n",
        "As a partner of `intersection()`, `union()` method returns the union of all elements included in two given sets. Let's check all the colors that are either in `fav_cols_set` or `rand_cols_set`!\n"
      ]
    },
    {
      "cell_type": "code",
      "metadata": {
        "id": "BHSV5IlckMA6"
      },
      "source": [
        "# Print the union of all elements in \"fav_cols_set\" and \"rand_cols_set\"\n"
      ],
      "execution_count": null,
      "outputs": []
    },
    {
      "cell_type": "markdown",
      "metadata": {
        "id": "hi3YHDTwTcSy"
      },
      "source": [
        "### (4) Difference\n",
        "\n",
        "Finally, you can also check the elements only in one of the two given sets, by using `difference()` method.\n",
        "Similar that the result of x-y is different from the result of y-x, the `difference()` method also returns asymetric results based on your target set.\n",
        "Let's try both ways and compare the results."
      ]
    },
    {
      "cell_type": "code",
      "metadata": {
        "id": "Iv9wUInNzPD3"
      },
      "source": [
        "# Print the set of elements not in \"fav_cols_set\" but only in \"rand_cols_set\".\n",
        "\n",
        "# Print the set of elements not in \"rand_cols_set\" but only in \"fav_cols_set\".\n"
      ],
      "execution_count": null,
      "outputs": []
    },
    {
      "cell_type": "markdown",
      "metadata": {
        "id": "0yfEpcBLXjkv"
      },
      "source": [
        "## 5. Methods for Dictionary\n",
        "\n",
        "Finally, we are at the last section of today's lab practice. You may be exhausted a little bit, but you'd better to keep focusing, since dictionary in Python is one of the most powerful and popular data structure that you will use a lot of times in the future. Of course, all methods here would be a part of your most-frequently-used methods in Python.\n",
        "\n",
        "\n",
        "Are you ready to work with the dictionary `close_friends` you created at the beginning of our practice?"
      ]
    },
    {
      "cell_type": "markdown",
      "metadata": {
        "id": "W_lBD5mhXjk3"
      },
      "source": [
        "### (1) Getting the value of a specific key\n",
        "\n",
        "Again, dictionary in Python consists of keys and their corresponding values. As you remember, your `close_friends` dictionary has the names of your friends as keys, while having the ages of your friends as the corresponding values.\n",
        "\n",
        "Choose one friend among the list in the dictionary, then print his/her age."
      ]
    },
    {
      "cell_type": "code",
      "metadata": {
        "id": "VFG1QAV1Xjk3"
      },
      "source": [
        "# Choose one name of your friend, and print the age of him/her\n"
      ],
      "execution_count": null,
      "outputs": []
    },
    {
      "cell_type": "markdown",
      "metadata": {
        "id": "BzTKX6IbXjk4"
      },
      "source": [
        "### (2) Getting the list of all keys\n",
        "\n",
        "The `keys()` method returns all the keys in a given dictionary.  \n"
      ]
    },
    {
      "cell_type": "code",
      "metadata": {
        "id": "EVDqhD4EXjk4"
      },
      "source": [
        "# Print the list of your friends in \"close_friends\" dictionary\n"
      ],
      "execution_count": null,
      "outputs": []
    },
    {
      "cell_type": "markdown",
      "metadata": {
        "id": "_QUeDx-Dla1A"
      },
      "source": [
        "Sometimes, you may want to print all keys in a dictionary. For example, let's assume that there is a dictionary consists of countries as keys and their GDP values in 2020 as values.  \n",
        "\n",
        "Suddenly, one of your colleagues asks you how many countries are in the dictionary.\n",
        "Then, how can you count the number of countries in a dictionary?\n",
        "\n",
        "1. Create a list of all keys in the dictionary.\n",
        "\n",
        "2. Check the length of the list, using `len()` function.\n",
        "\n",
        "Does it make sense? :-)"
      ]
    },
    {
      "cell_type": "markdown",
      "metadata": {
        "id": "sXOG6WN_Xjk6"
      },
      "source": [
        "### (3) Getting the list of all values\n",
        "\n",
        "Similarly, there is also a method called `values()` that returns all values in a dictionary.\n"
      ]
    },
    {
      "cell_type": "code",
      "metadata": {
        "id": "7f2-iIwAXjk6"
      },
      "source": [
        "# Print the list of the ages of your friends using \"values()\" method.\n"
      ],
      "execution_count": null,
      "outputs": []
    },
    {
      "cell_type": "markdown",
      "metadata": {
        "id": "cWP2DVlbmgEZ"
      },
      "source": [
        "`values()` is also one of the most frequently used methods in Python. From the example situation above, your another colleague asks you what GDP value is the largest in the country-GDP dictionary. Then, how can you calculate it using the functions and methods we learn today?\n",
        "\n",
        "1. Get the list of all values in the dictionary.\n",
        "\n",
        "2. Apply `max()` function to the list.\n",
        "\n",
        "Super easy, right?"
      ]
    }
  ]
}