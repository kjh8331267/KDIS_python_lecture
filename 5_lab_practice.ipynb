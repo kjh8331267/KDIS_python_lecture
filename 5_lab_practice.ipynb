{
  "nbformat": 4,
  "nbformat_minor": 0,
  "metadata": {
    "colab": {
      "provenance": [],
      "include_colab_link": true
    },
    "kernelspec": {
      "name": "python3",
      "display_name": "Python 3"
    },
    "language_info": {
      "name": "python"
    }
  },
  "cells": [
    {
      "cell_type": "markdown",
      "metadata": {
        "id": "view-in-github",
        "colab_type": "text"
      },
      "source": [
        "<a href=\"https://colab.research.google.com/github/kjh8331267/KDIS_python_lecture/blob/main/5_lab_practice.ipynb\" target=\"_parent\"><img src=\"https://colab.research.google.com/assets/colab-badge.svg\" alt=\"Open In Colab\"/></a>"
      ]
    },
    {
      "cell_type": "markdown",
      "metadata": {
        "id": "dROfMMmCRnHI"
      },
      "source": [
        "# Reading and Writing\n",
        "\n",
        "Today, we study how Python deals with a group of data values using different data structure. As we checked, you have to decide what data structure you will use to process your records, depending on your goal and basic stucture of your raw records.\n",
        "\n",
        "Here, to make you feel more comfortable to different types of data structure, we will play with them. First, create different types of data structure by yourself, following the instruction.  \n",
        "\n"
      ]
    },
    {
      "cell_type": "markdown",
      "metadata": {
        "id": "ePFF4mtvR8OM"
      },
      "source": [
        "\n",
        "\n",
        "```\n",
        "# This is formatted as code\n",
        "```\n",
        "\n",
        "## 1. Mount Your Google Drive To Use The Example Data\n",
        "\n",
        "> \"First, open the file browser on the left hand side. It will show a 'Mount Drive' button. Once clicked, you'll see a permissions prompt to mount Drive, and afterwards your Drive files will be present with no setup when you return to the notebook.\"\n",
        "\n",
        "from [a recent Q&A in Stackoverflow](https://stackoverflow.com/questions/48376580/google-colab-how-to-read-data-from-my-google-drive).\n",
        "\n",
        "After mounting (briefly means, connecting) your Google Drive to this `5_lab_practice.ipynb` file, you now have to setup the path to the specific folder where you saved `country_population_data.csv` file.\n",
        "\n",
        "You can see the hierarchical structure of your Google Drvie folders on the left hand side. Referring this structure, write down the path to the folder, starting from `drive/MyDrive` which would be a common part of the path for all of us. I just left my path (in my Google Drive system) for a reference below with the variable name `basic_path`, so feel free to modify it for your Google Drive.\n"
      ]
    },
    {
      "cell_type": "code",
      "source": [
        "from google.colab import drive\n",
        "drive.mount('/content/drive')"
      ],
      "metadata": {
        "id": "6QPc4abR6-9r",
        "colab": {
          "base_uri": "https://localhost:8080/"
        },
        "outputId": "2f04f408-92aa-4b1f-f2bd-9f8f7a94927d"
      },
      "execution_count": null,
      "outputs": [
        {
          "output_type": "stream",
          "name": "stdout",
          "text": [
            "Drive already mounted at /content/drive; to attempt to forcibly remount, call drive.mount(\"/content/drive\", force_remount=True).\n"
          ]
        }
      ]
    },
    {
      "cell_type": "code",
      "metadata": {
        "id": "-HBmNleA_lGE"
      },
      "source": [
        "# The f_folder location should be updated to match YOUR Drive\n",
        "f_folder = \"drive/MyDrive/teaching/class/programming_fundamentals_python/w3/\"\n",
        "\n",
        "# The f_name can be left alone in this instance\n",
        "f_name = \"country_population_data.csv\"\n",
        "\n",
        "f_path = f_folder + f_name"
      ],
      "execution_count": null,
      "outputs": []
    },
    {
      "cell_type": "markdown",
      "metadata": {
        "id": "5-dua0eCCxsJ"
      },
      "source": [
        "To check whether you put everything correctly, print `f_path` and compare it with the folder structure in the left hand side, by checking if you can point out the `country_population_data.csv` when you follow the hierarchical flow of your `f_path`."
      ]
    },
    {
      "cell_type": "code",
      "metadata": {
        "id": "nejzJjTTCfXy",
        "colab": {
          "base_uri": "https://localhost:8080/"
        },
        "outputId": "6cd421fc-05de-432d-90ed-66ed98f1b7d1"
      },
      "source": [
        "print(f_path)"
      ],
      "execution_count": null,
      "outputs": [
        {
          "output_type": "stream",
          "name": "stdout",
          "text": [
            "drive/MyDrive/teaching/class/programming_fundamentals_python/w3/country_population_data.csv\n"
          ]
        }
      ]
    },
    {
      "cell_type": "markdown",
      "metadata": {
        "id": "D_G6Dqu-ES7y"
      },
      "source": [
        "## 2. Read A File\n",
        "\n",
        "Reading, or loading a data file is a basic operation you need to do when you actually work with real-world datasets later. They can be from government surveys, public websites, or web service providers through their APIs.\n",
        "\n",
        "How can we read a file so we can work with it? There are multiple ways, but here we will just practice the easiest way. Basically, this way consists of two parts --- each of which corresponds to each line in the example code below, respectively.\n",
        "\n",
        "1. Open the target file\n",
        "\n",
        "2. Read the target file"
      ]
    },
    {
      "cell_type": "code",
      "metadata": {
        "id": "K0cI3HCpERoB"
      },
      "source": [
        "# Run this code and check whether it prints out all contents in the file\n",
        "\n",
        "with open(f_path, 'r') as f:\n",
        "  print(f.read())"
      ],
      "execution_count": null,
      "outputs": []
    },
    {
      "cell_type": "markdown",
      "metadata": {
        "id": "dcZ7HwsEJKPd"
      },
      "source": [
        "In this two lines of simple code, there are multiple things you need to newly learn.\n",
        "\n",
        "1. __Reading/Writing/Adding Mode__\n",
        "\n",
        "  As we discussed during the lecture, in the `open()` function, you need to set the mode of the function among `r` (for reading a file), `w` (for writing to a new file), and `a` (for adding to an existing file).\n",
        "\n",
        "  For here, since we're in the reading part, we set it as `r`. You will change it to `w` and `a` in the later part of the practice.\n",
        "\n",
        "2. __`read()`/`readlines()`/`readline()`__\n",
        "\n",
        "  After opening a file, we now read the file. There're three different methods to read a file here: `f.read()`, `f.readlines()`, and `f.readline()`. Differences between them are as follows:\n",
        "\n",
        "  - `f.read()`: Reading the whole contents as one long string\n",
        "  - `f.readlines()`: Reading the contents line by line, by creating a list of contents where each item of the list is each line of the contents. For example, the content in the fourth line of the whole contents would be the fourth item of the list, which you can extract by indexing.\n",
        "  - `f.readline()`: Reading one line of the whole contents. Whenever you call this, it returns the current line and moves to the next line.\n",
        "\n",
        "\n",
        "3. __Indentation__\n",
        "\n",
        "  You may find out that there exists a space (or a tab) at the beginning of the second line, which is called indentation. Different from other languages, Python is very strict about using the indentation because it recognize the hierarchy of the code through indentation. For example, all codes having one space (or tab) after the line \"`with open(f_path, 'r') as f:`\", which doesn't have a space at its beginning, are operated inside the situation of the line \"`with open(...`\".\n",
        "\n",
        "    Although there is no restriction about what you should use (that means your code will run whaterver you use between spaces and tab, as long as consistently use it), the standard indentation norm in Python is four spaces, as I will use the examples.\n",
        "    You can set up the indentation spaces to four spaces as your default by setting at \"Tools\" (among the above menu) -> \"Settings\" -> \"Editor\" -> \"Indentation width in spaces\" -> Setting up as \"4\".\n",
        "\n",
        "    Since we are reading the file under the situation where the file is opened, we write our `read()`, `readlines()`, or `readline()` code after the indentation. When you will learn conditional statement, iteration, and exception, you will become familiar with indentation.\n",
        "\n",
        "    Oh, one super important thing about indentation is __consistency__! For example, if you decide to use a space as your indentation, you must keep using a space without changing it to a tab in the middle of your code. That is, one code has one indentation system consistently. Help your Python understand your code easily!\n",
        "\n",
        "\n",
        "\n",
        "Okay, with this background, let's try `f.readlines()` and `f.readline()`. First, save the list of contents in the file in a variable, then print the 6th item of the list."
      ]
    },
    {
      "cell_type": "code",
      "metadata": {
        "id": "TP-k2gTnIF1a"
      },
      "source": [
        "with open(f_path, 'r') as f:\n",
        "    # Your code\n"
      ],
      "execution_count": null,
      "outputs": []
    },
    {
      "cell_type": "markdown",
      "metadata": {
        "id": "T5bkrwJkULvV"
      },
      "source": [
        "Similarly, try `f.readline()` below. However, to see how the `readline()` move to the next line, print `f.readline()` once in the second line of the code, then print `f.readline()` again in the next line. Because we type the same command, we may expect the same results. How are the results? Are they same?\n"
      ]
    },
    {
      "cell_type": "code",
      "metadata": {
        "id": "f7jpKhgYIWYi"
      },
      "source": [
        "with open(f_path, 'r') as f:\n",
        "    # Your two lines of the same code to print out the result of \"readline()\"\n",
        "\n"
      ],
      "execution_count": null,
      "outputs": []
    },
    {
      "cell_type": "markdown",
      "metadata": {
        "id": "HeWQFv2W0vmY"
      },
      "source": [
        "### 3. Write To A File\n",
        "\n",
        "Similar to reading a file, writing contents to a file also consists of two parts: opening the file where you want to write, and writing to the file.\n",
        "\n",
        "Let's create a new file path with a name you want."
      ]
    },
    {
      "cell_type": "code",
      "metadata": {
        "id": "25oT2DLxIwEN"
      },
      "source": [
        "new_f_path = f_folder + \"(type the file name you want).txt\""
      ],
      "execution_count": null,
      "outputs": []
    },
    {
      "cell_type": "markdown",
      "metadata": {
        "id": "BBGXzEu02tk4"
      },
      "source": [
        "Then, write about what you did during the last weekend with 2 to 4 sentences."
      ]
    },
    {
      "cell_type": "code",
      "metadata": {
        "id": "QqeTG7fb24sp"
      },
      "source": [
        "my_last_weekend = \"\""
      ],
      "execution_count": null,
      "outputs": []
    },
    {
      "cell_type": "markdown",
      "metadata": {
        "id": "TBwyhU1_28Je"
      },
      "source": [
        "Now, let's open the `new_f_path` with \"`w`\" mode, and write the string using `write()` method."
      ]
    },
    {
      "cell_type": "code",
      "metadata": {
        "id": "Qylbd2-q3MEI"
      },
      "source": [
        "with open() as new_f:\n",
        "    # Your code to write to the new path\n",
        "\n"
      ],
      "execution_count": null,
      "outputs": []
    },
    {
      "cell_type": "markdown",
      "metadata": {
        "id": "80VsV0T_3c5o"
      },
      "source": [
        "As the last step, let's add contents to an existing file. First, you need an additional content to add. Write more down about your last weekend, like 2 to 3 sentences."
      ]
    },
    {
      "cell_type": "code",
      "metadata": {
        "id": "7uUk5Gn93-Kc"
      },
      "source": [
        "my_last_weekend_pt2 = \"\"\n"
      ],
      "execution_count": null,
      "outputs": []
    },
    {
      "cell_type": "markdown",
      "metadata": {
        "id": "-QloX4EC4OjG"
      },
      "source": [
        "Then, open the `new_f_path` with \"`a`\" mode, and write the additional content `my_last_weekend_pt2` to the file."
      ]
    },
    {
      "cell_type": "code",
      "metadata": {
        "id": "Lx5GhzGf4C_T"
      },
      "source": [],
      "execution_count": null,
      "outputs": []
    },
    {
      "cell_type": "markdown",
      "metadata": {
        "id": "5kx1d2u54hj_"
      },
      "source": [
        "To check if everything about your weekend is written well, open the `new_f_path` and read & print the whole contents."
      ]
    },
    {
      "cell_type": "markdown",
      "metadata": {
        "id": "IUBCvdil40Gi"
      },
      "source": [
        "# If / Else / Elif\n",
        "\n",
        "The `if` statement checks if the following conditional statement is `True` or `False`, then executes the next line or lines of code (with indentation) if it's `True`.\n",
        "\n",
        "Corresponding to the `if` statement, the `else` statement --- which does not have a following conditional statement, executes the next line or next lines of codes when the conditional statements after the above `if` statement is `False`.\n",
        "\n",
        "Finally, the `elif` statement (as a shorten term of \"else if\") has a conditional statement after it. With its own conditional statement, the `elif` statement executes the following codes when 1) the conditional statement of `if` statement is `False`, while 2) the conditional statement of `elif` statement is `True`. You can add multiple `elif` statements, which execute the following code when all previous conditional statements in either `if` or `elif` statements are `False`, but its conditional statement is `True`.\n",
        "\n",
        "## 1. `if` / `else` statement\n",
        "\n",
        "First, store your age into the `your_age` variable below. Then, write a code that prints \"You are younger than 30.\" if your age is younger than 30, but prints \"You are older than 30.\" otherwise.\n",
        "\n"
      ]
    },
    {
      "cell_type": "code",
      "metadata": {
        "id": "YlCF4xLc_jTX"
      },
      "source": [
        "your_age =\n",
        "\n",
        "if\n",
        "\n",
        "else\n",
        "\n"
      ],
      "execution_count": null,
      "outputs": []
    },
    {
      "cell_type": "markdown",
      "metadata": {
        "id": "6iH0_fUcHXZa"
      },
      "source": [
        "## 2. `elif` statement\n",
        "\n",
        "Now, let's write a little more complicated code. Write a code that prints the following sentences for each range of `your_age`. For example, if `your_age` is 35, the code will print \"Oh, you're in 30s!\"\n",
        "\n",
        "- 11 ~ 20: \"You are a teenager!\"\n",
        "- 21 ~ 30: \"You are in 20s!\"\n",
        "- 31 ~ 40: \"You are in 30s!\"\n",
        "- 41 ~ 50: \"You are in 40s!\"\n",
        "- 51 ~ 60: \"You are in 50s!\"\n",
        "- older than 61: \"Wow, you're older than I expected.\"\n",
        "\n",
        "HINT: A conditional statement can check whether a given variable is larger than 20 but smaller than or same as 30 in two different ways.\n",
        "  - `(x > 20) and (x <= 30)`\n",
        "  - `20 < x <= 30`\n"
      ]
    },
    {
      "cell_type": "code",
      "source": [],
      "metadata": {
        "id": "bpTqOlYvQ3q_"
      },
      "execution_count": null,
      "outputs": []
    }
  ]
}