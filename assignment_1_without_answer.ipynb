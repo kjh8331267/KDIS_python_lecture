{
  "nbformat": 4,
  "nbformat_minor": 0,
  "metadata": {
    "colab": {
      "provenance": [],
      "include_colab_link": true
    },
    "kernelspec": {
      "name": "python3",
      "display_name": "Python 3"
    },
    "language_info": {
      "name": "python"
    }
  },
  "cells": [
    {
      "cell_type": "markdown",
      "metadata": {
        "id": "view-in-github",
        "colab_type": "text"
      },
      "source": [
        "<a href=\"https://colab.research.google.com/github/kjh8331267/KDIS_python_lecture/blob/main/assignment_1_without_answer.ipynb\" target=\"_parent\"><img src=\"https://colab.research.google.com/assets/colab-badge.svg\" alt=\"Open In Colab\"/></a>"
      ]
    },
    {
      "cell_type": "markdown",
      "metadata": {
        "id": "W4biydQQE-OQ"
      },
      "source": [
        "# Intro\n",
        "\n",
        "We have already gone through two weeks of our Python classes. So far, we can summarize what we have learned as follows:\n",
        "\n",
        "## 1. Data Types\n",
        "- `type(x)`\n",
        "\n",
        "### (1) Integer & Float\n",
        "- `int(x)` / `float(x)`\n",
        "- `round(x)`\n",
        "\n",
        "### (2) Boolean\n",
        "- `True` or `False`\n",
        "\n",
        "### (3) String\n",
        "- `str()`\n",
        "- String methods:\n",
        "  - `x.upper()` / `x.lower()` / `x.capitalize()` / `x.title()`\n",
        "  - `x.strip()` / `x.split()` / `x.join()`\n",
        "\n",
        "## 2. Data Structure\n",
        "\n",
        "### (1) Data Structures in Python\n",
        "- List\n",
        "- Tuple\n",
        "- Set\n",
        "- Dictionary\n",
        "\n",
        "### (2) Basic Operations for String & Sequence\n",
        "- Indexing\n",
        "- Slicing\n",
        "- Adding / Concatenating\n",
        "\n",
        "### (3) Functions & Methods for String & Sequence\n",
        "- `len(x)`\n",
        "- `min(x)` / `max(x)`\n",
        "- `sum(x)`\n",
        "- `sorted(x)`\n",
        "- `x.count()`\n",
        "\n",
        "### (4) Methods for Set\n",
        "- `x1.intersection(x2)`\n",
        "- `x1.union(x2)`\n",
        "- `x1.difference(x2)`\n",
        "- `x1.add()` / `x1.remove()`\n",
        "\n",
        "### (5) Methods for Dictionary\n",
        "- Indexing\n",
        "- `x.keys()` / `x.values()`\n",
        "- `x.items()`\n",
        "\n",
        "\n",
        "\n",
        "\n",
        "Now, it's the time to utilize a combination of those methods and functions for converting a raw data to the result that you want to obtain. Always, remember to __store your processed data into a new variable in each step of the process__."
      ]
    },
    {
      "cell_type": "markdown",
      "metadata": {
        "id": "efCs3ztXRpxD"
      },
      "source": [
        "## 2. Assignment Part 1\n"
      ]
    },
    {
      "cell_type": "code",
      "metadata": {
        "id": "ECzvytbkPNKx"
      },
      "source": [
        "def_econ_dev_wiki = \"\"\"The precise definition of economic development has been contested:\n",
        "while economists in the 20th century viewed development primarily in terms of economic growth,\n",
        "sociologists instead emphasized broader processes of change and modernization.\n",
        "Development and urban studies scholar Karl Seidman summarizes economic development as\n",
        "a process of creating and utilizing physical, human, financial, and social assets to generate\n",
        "improved and broadly shared economic well-being and quality of life for a community or region.\n",
        "Daphne Greenwood and Richard Holt distinguish economic development from economic growth on\n",
        "the basis that economic development is a broadly based and sustainable increase in the overall\n",
        "standard of living for individuals within a community, and measures of growth such as per capita\n",
        "income do not necessarily correlate with improvements in quality of life.\n",
        "Economic development is a wider concept and has qualitative dimensions.\n",
        "Economic development implies economic growth plus progressive changes in certain important variables\n",
        "which determine well-being of the people,e.g: health, education.\n",
        "\"\"\""
      ],
      "execution_count": 2,
      "outputs": []
    },
    {
      "cell_type": "markdown",
      "metadata": {
        "id": "FzSr-Q9yND4l"
      },
      "source": [
        "\n",
        "#### (1) A string variable `def_econ_dev_wiki` above contains a part of definition of [\"Economic Development\"](https://en.wikipedia.org/wiki/Economic_development) from _Wikipedia.org_. First, convert all letters into lower case. Second, make the sentences to a list of words. Third, count how many times the word \"economic\" is used in the sentences, using the list of words. (20pt)"
      ]
    },
    {
      "cell_type": "code",
      "metadata": {
        "id": "q12nOOK2PneI"
      },
      "source": [
        "# Step 1. Your code to convert it to lower cases\n",
        "def_econ_dev_wiki2 = def_econ_dev_wiki.lower()"
      ],
      "execution_count": 5,
      "outputs": []
    },
    {
      "cell_type": "code",
      "metadata": {
        "id": "azGoATq4Revp"
      },
      "source": [
        "# Step 2. Your code to convert it to a list of words\n",
        "lst_def_econ_dev_wiki = def_econ_dev_wiki2.split(' ')"
      ],
      "execution_count": 7,
      "outputs": []
    },
    {
      "cell_type": "code",
      "metadata": {
        "id": "2o_WCpgeRes_",
        "colab": {
          "base_uri": "https://localhost:8080/"
        },
        "outputId": "018a9339-0481-43a2-e6ec-6762ae0ac25d"
      },
      "source": [
        "# Step 3. Your code to print the number of \"economic\" in the list\n",
        "lst_def_econ_dev_wiki.count('economic')\n"
      ],
      "execution_count": 8,
      "outputs": [
        {
          "output_type": "execute_result",
          "data": {
            "text/plain": [
              "8"
            ]
          },
          "metadata": {},
          "execution_count": 8
        }
      ]
    },
    {
      "cell_type": "markdown",
      "metadata": {
        "id": "lJy9EjnJTM4q"
      },
      "source": [
        "#### (2) Now, can you remove all the words \"economic\" from `def_econ_dev_wiki`? (20pt)\n",
        "\n",
        "- HINT: You can use `replace(x)` for this purpose as well."
      ]
    },
    {
      "cell_type": "code",
      "metadata": {
        "id": "9RboIrZyQ2zo",
        "colab": {
          "base_uri": "https://localhost:8080/",
          "height": 125
        },
        "outputId": "85b69b67-6718-4c69-bf39-740e4cae4cca"
      },
      "source": [
        "# Step 1. Your code to remove all \"economic\"s from the string\n",
        "del_word = def_econ_dev_wiki2.replace('economic', '')\n",
        "\n",
        "del_word"
      ],
      "execution_count": 15,
      "outputs": [
        {
          "output_type": "execute_result",
          "data": {
            "text/plain": [
              "'the precise definition of  development has been contested:\\nwhile economists in the 20th century viewed development primarily in terms of  growth,\\nsociologists instead emphasized broader processes of change and modernization.\\ndevelopment and urban studies scholar karl seidman summarizes  development as\\na process of creating and utilizing physical, human, financial, and social assets to generate\\nimproved and broadly shared  well-being and quality of life for a community or region.\\ndaphne greenwood and richard holt distinguish  development from  growth on\\nthe basis that  development is a broadly based and sustainable increase in the overall\\nstandard of living for individuals within a community, and measures of growth such as per capita\\nincome do not necessarily correlate with improvements in quality of life.\\n development is a wider concept and has qualitative dimensions.\\n development implies  growth plus progressive changes in certain important variables\\nwhich determine well-being of the people,e.g: health, education.\\n'"
            ],
            "application/vnd.google.colaboratory.intrinsic+json": {
              "type": "string"
            }
          },
          "metadata": {},
          "execution_count": 15
        }
      ]
    },
    {
      "cell_type": "code",
      "metadata": {
        "id": "hg0pevRSTOT1",
        "colab": {
          "base_uri": "https://localhost:8080/"
        },
        "outputId": "60653c4d-0df2-4681-e921-40efcf587db9"
      },
      "source": [
        "# Step 2. Your code to check if all \"economic\"s are removed, by counting \"economic\" in the sentence again.\n",
        "del_word.split(' ').count('economic')"
      ],
      "execution_count": 17,
      "outputs": [
        {
          "output_type": "execute_result",
          "data": {
            "text/plain": [
              "0"
            ]
          },
          "metadata": {},
          "execution_count": 17
        }
      ]
    },
    {
      "cell_type": "markdown",
      "metadata": {
        "id": "YBCwWhKBTjum"
      },
      "source": [
        "#### (3) Next, let's check the number of words in the sentence. How many words are there in the sentence, except the spaces? (20pt)\n",
        "\n",
        "- It doesn't have to be the number of unique words. For example, if there's a string \"I have a kitty.\", the number of words in the sentence would be four.\n",
        "\n",
        "- HINT: Create a list of words in the sentence, then calculate the length of the list."
      ]
    },
    {
      "cell_type": "code",
      "metadata": {
        "id": "2_sZPSIxUl5t",
        "colab": {
          "base_uri": "https://localhost:8080/"
        },
        "outputId": "01b37029-fe2a-47ee-d9af-a06aabcc68e7"
      },
      "source": [
        "# Your code to count the number of words in \"def_econ_dev_wiki\"\n",
        "len(del_word)"
      ],
      "execution_count": 18,
      "outputs": [
        {
          "output_type": "execute_result",
          "data": {
            "text/plain": [
              "1031"
            ]
          },
          "metadata": {},
          "execution_count": 18
        }
      ]
    },
    {
      "cell_type": "markdown",
      "metadata": {
        "id": "JiRuyKp-WaZO"
      },
      "source": [
        "## 3. Assignment Part 2\n",
        "\n",
        "During the last class, we learned about dictionary structure in Python.\n",
        "Since dictionary is one of the most frequently-used types in Python with list, we need to practice how to deal with different situations by combining various methods and functions together.\n",
        "\n",
        "In the following cell, a dictionary called `country_pop_dict` is provided, where the keys are the top 20 countries in population size while the values are their population sizes in 2021 according to a website, [\"World Population Review\"](https://worldpopulationreview.com/countries).\n",
        "\n",
        "Let's play with this data!"
      ]
    },
    {
      "cell_type": "code",
      "metadata": {
        "id": "NkR5JEghb9jG"
      },
      "source": [
        "country_pop_dict = {\"Egypt\": 104258327, \"China\":  1444216107, \"United States\": 332915073,\n",
        "                    \"Indonesia\": 276361783, \"Pakistan\": 225199937, \"Brazil\": 213993437,\n",
        "                    \"Nigeria\": 211400708, \"Ethiopia\": 117876227, \"Bangladesh\": 166303498,\n",
        "                    \"Mexico\": 130262216, \"Vietnam\": 98168833, \"Japan\": 126050804,\n",
        "                    \"Philippines\": 111046913, \"India\": 1393409038, \"Russia\": 145912025,\n",
        "                    \"DR Congo\": 92377993, \"Turkey\": 85042738, \"Iran\": 85028759,\n",
        "                    \"Germany\": 83900473, \"Thailand\": 69950850}"
      ],
      "execution_count": 19,
      "outputs": []
    },
    {
      "cell_type": "markdown",
      "metadata": {
        "id": "5sbRHFG7eL4A"
      },
      "source": [
        "\n",
        "#### (1) Sort the list of countries in alphabetical order, and print the countries from the 8th to the 13th in the order. (20pt)\n",
        "\n",
        "- HINT: There exists a function `list(x)`, which convert `x`(any sequential\n",
        "data, like tuple or array) to list.\n",
        "\n"
      ]
    },
    {
      "cell_type": "code",
      "metadata": {
        "id": "0rdnPNYjb96z",
        "colab": {
          "base_uri": "https://localhost:8080/"
        },
        "outputId": "886a3bd8-9341-4855-cf04-474252f5ffe6"
      },
      "source": [
        "# Make a list of countries\n",
        "lst_key = []\n",
        "for key, value in country_pop_dict.items():\n",
        "    lst_key.append(key)\n",
        "\n",
        "# Sort the list by alphabetical order\n",
        "lst_key.sort()\n",
        "\n",
        "# Print the countries from the 8th to the 13th in the order\n",
        "lst_key[7:13]\n"
      ],
      "execution_count": 23,
      "outputs": [
        {
          "output_type": "execute_result",
          "data": {
            "text/plain": [
              "['India', 'Indonesia', 'Iran', 'Japan', 'Mexico', 'Nigeria']"
            ]
          },
          "metadata": {},
          "execution_count": 23
        }
      ]
    },
    {
      "cell_type": "markdown",
      "metadata": {
        "id": "rLqch5TmfHgu"
      },
      "source": [
        "#### (2) Now, let's focus on population numbers. First, print the minimum and maximum values in the 20 populations. Second, print the sum of all 20 values. How many people are living in the top 20 countries in population size in 2021? (20pt)"
      ]
    },
    {
      "cell_type": "code",
      "metadata": {
        "id": "pAoKFi9qe3tl",
        "colab": {
          "base_uri": "https://localhost:8080/"
        },
        "outputId": "2e8ebbf5-fd4d-48c1-f437-96136efe7cf4"
      },
      "source": [
        "# Make a list of population values\n",
        "lst_value = []\n",
        "for key, value in country_pop_dict.items():\n",
        "    lst_value.append(value)\n",
        "# Print the minimum and maximum values in the list\n",
        "print('minimum :  ', min(lst_value), 'maximum :  ', max(lst_value))\n",
        "\n",
        "# Print the sum of all values in the list\n",
        "print('sum : ', sum(lst_value))"
      ],
      "execution_count": 24,
      "outputs": [
        {
          "output_type": "stream",
          "name": "stdout",
          "text": [
            "minimum :   69950850 maximum :   1444216107\n",
            "sum :  5513675739\n"
          ]
        }
      ]
    },
    {
      "cell_type": "code",
      "metadata": {
        "id": "93fkMLuGiT0w"
      },
      "source": [],
      "execution_count": null,
      "outputs": []
    }
  ]
}