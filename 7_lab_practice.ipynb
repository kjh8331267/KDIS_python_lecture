{
  "nbformat": 4,
  "nbformat_minor": 0,
  "metadata": {
    "colab": {
      "provenance": [],
      "include_colab_link": true
    },
    "kernelspec": {
      "name": "python3",
      "display_name": "Python 3"
    },
    "language_info": {
      "name": "python"
    }
  },
  "cells": [
    {
      "cell_type": "markdown",
      "metadata": {
        "id": "view-in-github",
        "colab_type": "text"
      },
      "source": [
        "<a href=\"https://colab.research.google.com/github/kjh8331267/KDIS_python_lecture/blob/main/7_lab_practice.ipynb\" target=\"_parent\"><img src=\"https://colab.research.google.com/assets/colab-badge.svg\" alt=\"Open In Colab\"/></a>"
      ]
    },
    {
      "cell_type": "markdown",
      "metadata": {
        "id": "dROfMMmCRnHI"
      },
      "source": [
        "# Function\n",
        "\n",
        "Today, we study how to create a function. A function is a block of organized, reusable code that is used to perform a single, related task. As the second lowest level in the modular structure of Python programming (the lowest level is a line of code), functions provide better modularity for your code and a high degree of code reusing.\n",
        "\n",
        "One of the key principles of a clean, readable, and efficient code is to avoid a redundant code. In this perspective, if you have a specific task that are used in multiple times throughout one long code, you'd better to create a function and just call it whenever you need it in the code, rather than writing similar codes again and again whenever you need it.  \n",
        "For example, assume that you use one task in 5 times throughout the whole of your code and the number of lines of the code for the task is 10.\n",
        "Then it will take 50 lines of code, where most of them are redundant.\n",
        "Instead, if you create a function for the task (with 10 lines) and call it whenever you need it (5 times, so 5 lines to call the function), the 50 lines without functionizing becomes 15 lines.\n",
        "\n",
        "If you do this process multiple times for multiple tasks that are frequently used through the whole code, your code become much shorter, more readable\n",
        "and concise.\n",
        "Of course, your time to take for writing the code becomes much shorter too, so you can spend the additional time you get by functionizing to pet your kitty.\n",
        "\n",
        "\n",
        "\n",
        "\n",
        "\n"
      ]
    },
    {
      "cell_type": "markdown",
      "metadata": {
        "id": "ePFF4mtvR8OM"
      },
      "source": [
        "## 1. Level 1\n",
        "\n",
        "As the first step of our practice about function, create a function, called `min_max_sum()` as follows:\n",
        "\n",
        "- input: list of integer numbers\n",
        "- output: the sum of the minimum and maximum numbers in the list\n",
        "\n"
      ]
    },
    {
      "cell_type": "code",
      "metadata": {
        "id": "-HBmNleA_lGE",
        "colab": {
          "base_uri": "https://localhost:8080/"
        },
        "outputId": "a2edd5fc-f27f-4dc0-ece9-cf4599a1ca9e"
      },
      "source": [
        "ex_int_list =[3,5,1,457,6723,5674,2,2345,2345,234,78456,83534]\n",
        "\n",
        "# Your code to define the function\n",
        "# Utilize min(), max() functions\n",
        "def min_max_sum(lst):\n",
        "    rst = min(lst) + max(lst)\n",
        "\n",
        "    return rst\n",
        "\n",
        "print(min_max_sum(ex_int_list))"
      ],
      "execution_count": 5,
      "outputs": [
        {
          "output_type": "stream",
          "name": "stdout",
          "text": [
            "83535\n"
          ]
        }
      ]
    },
    {
      "cell_type": "markdown",
      "metadata": {
        "id": "mTBnOcliFGjD"
      },
      "source": [
        "## 2. Level 2\n",
        "\n",
        "Okay, let's move on to the next level, which would be a little closer to the actual fuctions you will make in the future.\n",
        "\n",
        "Create a function that sum up only __odd__ numbers in a list:\n",
        "\n",
        "- input: list of integer numbers (`ex_int_list` above)\n",
        "- output: the sum of only __odd__ numbers in a given list\n",
        "\n",
        "(HINT: Odd numbers are the numbers having 1 as a remainder when divided by 2. You can calculate a remainder using `%` sign. For example, run the following code.)"
      ]
    },
    {
      "cell_type": "code",
      "metadata": {
        "colab": {
          "base_uri": "https://localhost:8080/"
        },
        "id": "6cAFwDSjFF_J",
        "outputId": "6845f67c-ef0b-4018-bbd2-7bd1ecb54038"
      },
      "source": [
        "print(\"remainder of 10 divided by 2:\", 10 % 2)\n",
        "print(\"remainder of 9 divided by 2:\", 9 % 2)"
      ],
      "execution_count": null,
      "outputs": [
        {
          "output_type": "stream",
          "name": "stdout",
          "text": [
            "remainder of 10 divided by 2: 0\n",
            "remainder of 9 divided by 2: 1\n"
          ]
        }
      ]
    },
    {
      "cell_type": "code",
      "metadata": {
        "id": "XaFtXTlsTjNb",
        "colab": {
          "base_uri": "https://localhost:8080/"
        },
        "outputId": "caa9d155-a2d8-40ae-e357-a9fb8066d286"
      },
      "source": [
        "# Your code\n",
        "def sum_odds(lst):\n",
        "    odds = []\n",
        "    for i in lst:\n",
        "        if i%2 == 1:\n",
        "            odds.append(i)\n",
        "    rst = sum(odds)\n",
        "    return rst\n",
        "sum_odds(ex_int_list)"
      ],
      "execution_count": 7,
      "outputs": [
        {
          "output_type": "execute_result",
          "data": {
            "text/plain": [
              "11879"
            ]
          },
          "metadata": {},
          "execution_count": 7
        }
      ]
    },
    {
      "cell_type": "markdown",
      "metadata": {
        "id": "UAtPI3NyfeoJ"
      },
      "source": [
        "## 3. Level 3\n",
        "\n",
        "So far, we just create a function and call the function as it is, as a final result. It's common to just call a function as a final result, when testing whether the function works correctly or not. However, in real world applications, you create functions at the beginning, then call them inside your main code (to process specific tasks that those functions aim) as a part of the whole code.\n",
        "\n",
        "Hence, in Level 3, we practice **to define a function at the beginning and then call it in the middle of a main code**. First, define a functiong doing the following process.\n",
        "\n",
        "- input: a string consists of name of a country and its population, such as \"20,Thailand,699508500\"\n",
        "\n",
        "- output: tuple of country name (as a string) and population (as a integer), for example `(\"Thailand\", 699508500)`.\n"
      ]
    },
    {
      "cell_type": "code",
      "source": [
        "from google.colab import drive\n",
        "drive.mount('/content/drive')"
      ],
      "metadata": {
        "colab": {
          "base_uri": "https://localhost:8080/"
        },
        "id": "zCXSGqARJvcL",
        "outputId": "70dae08f-93f4-4173-b773-04a2ec39ba0c"
      },
      "execution_count": 8,
      "outputs": [
        {
          "output_type": "stream",
          "name": "stdout",
          "text": [
            "Mounted at /content/drive\n"
          ]
        }
      ]
    },
    {
      "cell_type": "code",
      "metadata": {
        "id": "6krmsv83mddh"
      },
      "source": [
        "\n",
        "def fun(chr):\n",
        "    lst = chr.split(',')\n",
        "    return (lst[1], lst[2])"
      ],
      "execution_count": 11,
      "outputs": []
    },
    {
      "cell_type": "markdown",
      "metadata": {
        "id": "WCItsJaucawY"
      },
      "source": [
        "Second, create an empty dictionary named `pop_dict`. Then read the file we tested last week, `country_population_data.csv`, as a list of lines.\n",
        "Finally, what you're expected to do is, for each line of the records, you extract a tuple of country name and population, then store it into the empty dictionary.\n",
        "\n",
        "(HINT: The following code shows you how you add an item to a dictionary.)"
      ]
    },
    {
      "cell_type": "code",
      "metadata": {
        "colab": {
          "base_uri": "https://localhost:8080/"
        },
        "id": "Eu1u2Wsid0LP",
        "outputId": "c109fd87-b726-4b58-9ca9-8a9ac9d92c6b"
      },
      "source": [
        "pop_dict = {}\n",
        "\n",
        "ex_dict[\"key_str_1\"] = \"value_str_1\"\n",
        "ex_dict[\"key_str_2\"] = \"value_str_2\"\n",
        "\n",
        "print(ex_dict)"
      ],
      "execution_count": null,
      "outputs": [
        {
          "output_type": "stream",
          "name": "stdout",
          "text": [
            "{'key_str_1': 'value_str_1', 'key_str_2': 'value_str_2'}\n"
          ]
        }
      ]
    },
    {
      "cell_type": "code",
      "metadata": {
        "id": "IefhSLFYFtmS"
      },
      "source": [
        "# Your code for the file path\n",
        "f_folder = '/content/drive/MyDrive/kdis_python/'\n",
        "f_name = 'country_population_data.csv'\n",
        "\n",
        "f_path = f_folder + f_name"
      ],
      "execution_count": 12,
      "outputs": []
    },
    {
      "cell_type": "code",
      "metadata": {
        "id": "deAJEP-LGC8a",
        "colab": {
          "base_uri": "https://localhost:8080/"
        },
        "outputId": "f33c51f1-59a0-4976-ac2e-ae27a7f367f9"
      },
      "source": [
        "# Your code for creating the dictionary\n",
        "import pandas as pd\n",
        "import numpy as np\n",
        "\n",
        "df = pd.read_csv(f_path)\n",
        "for i in df:\n",
        "    print(i)"
      ],
      "execution_count": 14,
      "outputs": [
        {
          "output_type": "stream",
          "name": "stdout",
          "text": [
            "Rank\n",
            "name\n",
            "pop2021\n"
          ]
        }
      ]
    },
    {
      "cell_type": "code",
      "source": [
        "\n",
        "with open(f_path, 'rb') as f:\n",
        "    l = f.readlines()\n",
        "    print(l)"
      ],
      "metadata": {
        "colab": {
          "base_uri": "https://localhost:8080/"
        },
        "id": "Dlxd0FPBSgLp",
        "outputId": "89653961-609b-4637-bb5b-607e9a495624"
      },
      "execution_count": 16,
      "outputs": [
        {
          "output_type": "stream",
          "name": "stdout",
          "text": [
            "[b'Rank,name,pop2021\\n', b'1,China,14442161070\\n', b'2,India,13934090380\\n', b'3,United States,3329150730\\n', b'4,Indonesia,2763617830\\n', b'5,Pakistan,2251999370\\n', b'6,Brazil,2139934370\\n', b'7,Nigeria,2114007080\\n', b'8,Bangladesh,1663034980\\n', b'9,Russia,1459120250\\n', b'10,Mexico,1302622160\\n', b'11,Japan,1260508040\\n', b'12,Ethiopia,1178762270\\n', b'13,Philippines,1110469130\\n', b'14,Egypt,1042583270\\n', b'15,Vietnam,981688330\\n', b'16,DR Congo,923779930\\n', b'17,Germany,83900730\\n', b'18,Turkey,850427380\\n', b'19,Iran,850287590\\n', b'20,Thailand,699508500\\n', b'21,United Kingdom,682071160\\n', b'22,France,654261790\\n', b'23,Italy,603674770\\n', b'24,South Africa,600419940\\n', b'25,Tanzania,614984370\\n', b'26,Myanmar,548060120\\n', b'27,Kenya,549856980\\n', b'28,South Korea,513051860\\n', b'29,Colombia,512658440\\n', b'30,Spain,467452160\\n']\n"
          ]
        }
      ]
    },
    {
      "cell_type": "code",
      "source": [
        "str(l[0]).split(',')"
      ],
      "metadata": {
        "colab": {
          "base_uri": "https://localhost:8080/"
        },
        "id": "R4cq7-UNS2jr",
        "outputId": "dd20327c-a2b7-428e-f42e-21e05d217c68"
      },
      "execution_count": 20,
      "outputs": [
        {
          "output_type": "execute_result",
          "data": {
            "text/plain": [
              "[\"b'Rank\", 'name', \"pop2021\\\\n'\"]"
            ]
          },
          "metadata": {},
          "execution_count": 20
        }
      ]
    },
    {
      "cell_type": "code",
      "source": [
        "df[name]"
      ],
      "metadata": {
        "colab": {
          "base_uri": "https://localhost:8080/",
          "height": 990
        },
        "id": "UfRItRoiSBL6",
        "outputId": "d62cd7b1-2550-42de-a2e4-e4abb89bfa8b"
      },
      "execution_count": 15,
      "outputs": [
        {
          "output_type": "execute_result",
          "data": {
            "text/plain": [
              "    Rank            name      pop2021\n",
              "0      1           China  14442161070\n",
              "1      2           India  13934090380\n",
              "2      3   United States   3329150730\n",
              "3      4       Indonesia   2763617830\n",
              "4      5        Pakistan   2251999370\n",
              "5      6          Brazil   2139934370\n",
              "6      7         Nigeria   2114007080\n",
              "7      8      Bangladesh   1663034980\n",
              "8      9          Russia   1459120250\n",
              "9     10          Mexico   1302622160\n",
              "10    11           Japan   1260508040\n",
              "11    12        Ethiopia   1178762270\n",
              "12    13     Philippines   1110469130\n",
              "13    14           Egypt   1042583270\n",
              "14    15         Vietnam    981688330\n",
              "15    16        DR Congo    923779930\n",
              "16    17         Germany     83900730\n",
              "17    18          Turkey    850427380\n",
              "18    19            Iran    850287590\n",
              "19    20        Thailand    699508500\n",
              "20    21  United Kingdom    682071160\n",
              "21    22          France    654261790\n",
              "22    23           Italy    603674770\n",
              "23    24    South Africa    600419940\n",
              "24    25        Tanzania    614984370\n",
              "25    26         Myanmar    548060120\n",
              "26    27           Kenya    549856980\n",
              "27    28     South Korea    513051860\n",
              "28    29        Colombia    512658440\n",
              "29    30           Spain    467452160"
            ],
            "text/html": [
              "\n",
              "  <div id=\"df-77923a4b-94dc-4597-99fd-b16688e6328f\" class=\"colab-df-container\">\n",
              "    <div>\n",
              "<style scoped>\n",
              "    .dataframe tbody tr th:only-of-type {\n",
              "        vertical-align: middle;\n",
              "    }\n",
              "\n",
              "    .dataframe tbody tr th {\n",
              "        vertical-align: top;\n",
              "    }\n",
              "\n",
              "    .dataframe thead th {\n",
              "        text-align: right;\n",
              "    }\n",
              "</style>\n",
              "<table border=\"1\" class=\"dataframe\">\n",
              "  <thead>\n",
              "    <tr style=\"text-align: right;\">\n",
              "      <th></th>\n",
              "      <th>Rank</th>\n",
              "      <th>name</th>\n",
              "      <th>pop2021</th>\n",
              "    </tr>\n",
              "  </thead>\n",
              "  <tbody>\n",
              "    <tr>\n",
              "      <th>0</th>\n",
              "      <td>1</td>\n",
              "      <td>China</td>\n",
              "      <td>14442161070</td>\n",
              "    </tr>\n",
              "    <tr>\n",
              "      <th>1</th>\n",
              "      <td>2</td>\n",
              "      <td>India</td>\n",
              "      <td>13934090380</td>\n",
              "    </tr>\n",
              "    <tr>\n",
              "      <th>2</th>\n",
              "      <td>3</td>\n",
              "      <td>United States</td>\n",
              "      <td>3329150730</td>\n",
              "    </tr>\n",
              "    <tr>\n",
              "      <th>3</th>\n",
              "      <td>4</td>\n",
              "      <td>Indonesia</td>\n",
              "      <td>2763617830</td>\n",
              "    </tr>\n",
              "    <tr>\n",
              "      <th>4</th>\n",
              "      <td>5</td>\n",
              "      <td>Pakistan</td>\n",
              "      <td>2251999370</td>\n",
              "    </tr>\n",
              "    <tr>\n",
              "      <th>5</th>\n",
              "      <td>6</td>\n",
              "      <td>Brazil</td>\n",
              "      <td>2139934370</td>\n",
              "    </tr>\n",
              "    <tr>\n",
              "      <th>6</th>\n",
              "      <td>7</td>\n",
              "      <td>Nigeria</td>\n",
              "      <td>2114007080</td>\n",
              "    </tr>\n",
              "    <tr>\n",
              "      <th>7</th>\n",
              "      <td>8</td>\n",
              "      <td>Bangladesh</td>\n",
              "      <td>1663034980</td>\n",
              "    </tr>\n",
              "    <tr>\n",
              "      <th>8</th>\n",
              "      <td>9</td>\n",
              "      <td>Russia</td>\n",
              "      <td>1459120250</td>\n",
              "    </tr>\n",
              "    <tr>\n",
              "      <th>9</th>\n",
              "      <td>10</td>\n",
              "      <td>Mexico</td>\n",
              "      <td>1302622160</td>\n",
              "    </tr>\n",
              "    <tr>\n",
              "      <th>10</th>\n",
              "      <td>11</td>\n",
              "      <td>Japan</td>\n",
              "      <td>1260508040</td>\n",
              "    </tr>\n",
              "    <tr>\n",
              "      <th>11</th>\n",
              "      <td>12</td>\n",
              "      <td>Ethiopia</td>\n",
              "      <td>1178762270</td>\n",
              "    </tr>\n",
              "    <tr>\n",
              "      <th>12</th>\n",
              "      <td>13</td>\n",
              "      <td>Philippines</td>\n",
              "      <td>1110469130</td>\n",
              "    </tr>\n",
              "    <tr>\n",
              "      <th>13</th>\n",
              "      <td>14</td>\n",
              "      <td>Egypt</td>\n",
              "      <td>1042583270</td>\n",
              "    </tr>\n",
              "    <tr>\n",
              "      <th>14</th>\n",
              "      <td>15</td>\n",
              "      <td>Vietnam</td>\n",
              "      <td>981688330</td>\n",
              "    </tr>\n",
              "    <tr>\n",
              "      <th>15</th>\n",
              "      <td>16</td>\n",
              "      <td>DR Congo</td>\n",
              "      <td>923779930</td>\n",
              "    </tr>\n",
              "    <tr>\n",
              "      <th>16</th>\n",
              "      <td>17</td>\n",
              "      <td>Germany</td>\n",
              "      <td>83900730</td>\n",
              "    </tr>\n",
              "    <tr>\n",
              "      <th>17</th>\n",
              "      <td>18</td>\n",
              "      <td>Turkey</td>\n",
              "      <td>850427380</td>\n",
              "    </tr>\n",
              "    <tr>\n",
              "      <th>18</th>\n",
              "      <td>19</td>\n",
              "      <td>Iran</td>\n",
              "      <td>850287590</td>\n",
              "    </tr>\n",
              "    <tr>\n",
              "      <th>19</th>\n",
              "      <td>20</td>\n",
              "      <td>Thailand</td>\n",
              "      <td>699508500</td>\n",
              "    </tr>\n",
              "    <tr>\n",
              "      <th>20</th>\n",
              "      <td>21</td>\n",
              "      <td>United Kingdom</td>\n",
              "      <td>682071160</td>\n",
              "    </tr>\n",
              "    <tr>\n",
              "      <th>21</th>\n",
              "      <td>22</td>\n",
              "      <td>France</td>\n",
              "      <td>654261790</td>\n",
              "    </tr>\n",
              "    <tr>\n",
              "      <th>22</th>\n",
              "      <td>23</td>\n",
              "      <td>Italy</td>\n",
              "      <td>603674770</td>\n",
              "    </tr>\n",
              "    <tr>\n",
              "      <th>23</th>\n",
              "      <td>24</td>\n",
              "      <td>South Africa</td>\n",
              "      <td>600419940</td>\n",
              "    </tr>\n",
              "    <tr>\n",
              "      <th>24</th>\n",
              "      <td>25</td>\n",
              "      <td>Tanzania</td>\n",
              "      <td>614984370</td>\n",
              "    </tr>\n",
              "    <tr>\n",
              "      <th>25</th>\n",
              "      <td>26</td>\n",
              "      <td>Myanmar</td>\n",
              "      <td>548060120</td>\n",
              "    </tr>\n",
              "    <tr>\n",
              "      <th>26</th>\n",
              "      <td>27</td>\n",
              "      <td>Kenya</td>\n",
              "      <td>549856980</td>\n",
              "    </tr>\n",
              "    <tr>\n",
              "      <th>27</th>\n",
              "      <td>28</td>\n",
              "      <td>South Korea</td>\n",
              "      <td>513051860</td>\n",
              "    </tr>\n",
              "    <tr>\n",
              "      <th>28</th>\n",
              "      <td>29</td>\n",
              "      <td>Colombia</td>\n",
              "      <td>512658440</td>\n",
              "    </tr>\n",
              "    <tr>\n",
              "      <th>29</th>\n",
              "      <td>30</td>\n",
              "      <td>Spain</td>\n",
              "      <td>467452160</td>\n",
              "    </tr>\n",
              "  </tbody>\n",
              "</table>\n",
              "</div>\n",
              "    <div class=\"colab-df-buttons\">\n",
              "\n",
              "  <div class=\"colab-df-container\">\n",
              "    <button class=\"colab-df-convert\" onclick=\"convertToInteractive('df-77923a4b-94dc-4597-99fd-b16688e6328f')\"\n",
              "            title=\"Convert this dataframe to an interactive table.\"\n",
              "            style=\"display:none;\">\n",
              "\n",
              "  <svg xmlns=\"http://www.w3.org/2000/svg\" height=\"24px\" viewBox=\"0 -960 960 960\">\n",
              "    <path d=\"M120-120v-720h720v720H120Zm60-500h600v-160H180v160Zm220 220h160v-160H400v160Zm0 220h160v-160H400v160ZM180-400h160v-160H180v160Zm440 0h160v-160H620v160ZM180-180h160v-160H180v160Zm440 0h160v-160H620v160Z\"/>\n",
              "  </svg>\n",
              "    </button>\n",
              "\n",
              "  <style>\n",
              "    .colab-df-container {\n",
              "      display:flex;\n",
              "      gap: 12px;\n",
              "    }\n",
              "\n",
              "    .colab-df-convert {\n",
              "      background-color: #E8F0FE;\n",
              "      border: none;\n",
              "      border-radius: 50%;\n",
              "      cursor: pointer;\n",
              "      display: none;\n",
              "      fill: #1967D2;\n",
              "      height: 32px;\n",
              "      padding: 0 0 0 0;\n",
              "      width: 32px;\n",
              "    }\n",
              "\n",
              "    .colab-df-convert:hover {\n",
              "      background-color: #E2EBFA;\n",
              "      box-shadow: 0px 1px 2px rgba(60, 64, 67, 0.3), 0px 1px 3px 1px rgba(60, 64, 67, 0.15);\n",
              "      fill: #174EA6;\n",
              "    }\n",
              "\n",
              "    .colab-df-buttons div {\n",
              "      margin-bottom: 4px;\n",
              "    }\n",
              "\n",
              "    [theme=dark] .colab-df-convert {\n",
              "      background-color: #3B4455;\n",
              "      fill: #D2E3FC;\n",
              "    }\n",
              "\n",
              "    [theme=dark] .colab-df-convert:hover {\n",
              "      background-color: #434B5C;\n",
              "      box-shadow: 0px 1px 3px 1px rgba(0, 0, 0, 0.15);\n",
              "      filter: drop-shadow(0px 1px 2px rgba(0, 0, 0, 0.3));\n",
              "      fill: #FFFFFF;\n",
              "    }\n",
              "  </style>\n",
              "\n",
              "    <script>\n",
              "      const buttonEl =\n",
              "        document.querySelector('#df-77923a4b-94dc-4597-99fd-b16688e6328f button.colab-df-convert');\n",
              "      buttonEl.style.display =\n",
              "        google.colab.kernel.accessAllowed ? 'block' : 'none';\n",
              "\n",
              "      async function convertToInteractive(key) {\n",
              "        const element = document.querySelector('#df-77923a4b-94dc-4597-99fd-b16688e6328f');\n",
              "        const dataTable =\n",
              "          await google.colab.kernel.invokeFunction('convertToInteractive',\n",
              "                                                    [key], {});\n",
              "        if (!dataTable) return;\n",
              "\n",
              "        const docLinkHtml = 'Like what you see? Visit the ' +\n",
              "          '<a target=\"_blank\" href=https://colab.research.google.com/notebooks/data_table.ipynb>data table notebook</a>'\n",
              "          + ' to learn more about interactive tables.';\n",
              "        element.innerHTML = '';\n",
              "        dataTable['output_type'] = 'display_data';\n",
              "        await google.colab.output.renderOutput(dataTable, element);\n",
              "        const docLink = document.createElement('div');\n",
              "        docLink.innerHTML = docLinkHtml;\n",
              "        element.appendChild(docLink);\n",
              "      }\n",
              "    </script>\n",
              "  </div>\n",
              "\n",
              "\n",
              "<div id=\"df-ea985afa-bdde-4a2e-87b8-43b7d89d487d\">\n",
              "  <button class=\"colab-df-quickchart\" onclick=\"quickchart('df-ea985afa-bdde-4a2e-87b8-43b7d89d487d')\"\n",
              "            title=\"Suggest charts\"\n",
              "            style=\"display:none;\">\n",
              "\n",
              "<svg xmlns=\"http://www.w3.org/2000/svg\" height=\"24px\"viewBox=\"0 0 24 24\"\n",
              "     width=\"24px\">\n",
              "    <g>\n",
              "        <path d=\"M19 3H5c-1.1 0-2 .9-2 2v14c0 1.1.9 2 2 2h14c1.1 0 2-.9 2-2V5c0-1.1-.9-2-2-2zM9 17H7v-7h2v7zm4 0h-2V7h2v10zm4 0h-2v-4h2v4z\"/>\n",
              "    </g>\n",
              "</svg>\n",
              "  </button>\n",
              "\n",
              "<style>\n",
              "  .colab-df-quickchart {\n",
              "      --bg-color: #E8F0FE;\n",
              "      --fill-color: #1967D2;\n",
              "      --hover-bg-color: #E2EBFA;\n",
              "      --hover-fill-color: #174EA6;\n",
              "      --disabled-fill-color: #AAA;\n",
              "      --disabled-bg-color: #DDD;\n",
              "  }\n",
              "\n",
              "  [theme=dark] .colab-df-quickchart {\n",
              "      --bg-color: #3B4455;\n",
              "      --fill-color: #D2E3FC;\n",
              "      --hover-bg-color: #434B5C;\n",
              "      --hover-fill-color: #FFFFFF;\n",
              "      --disabled-bg-color: #3B4455;\n",
              "      --disabled-fill-color: #666;\n",
              "  }\n",
              "\n",
              "  .colab-df-quickchart {\n",
              "    background-color: var(--bg-color);\n",
              "    border: none;\n",
              "    border-radius: 50%;\n",
              "    cursor: pointer;\n",
              "    display: none;\n",
              "    fill: var(--fill-color);\n",
              "    height: 32px;\n",
              "    padding: 0;\n",
              "    width: 32px;\n",
              "  }\n",
              "\n",
              "  .colab-df-quickchart:hover {\n",
              "    background-color: var(--hover-bg-color);\n",
              "    box-shadow: 0 1px 2px rgba(60, 64, 67, 0.3), 0 1px 3px 1px rgba(60, 64, 67, 0.15);\n",
              "    fill: var(--button-hover-fill-color);\n",
              "  }\n",
              "\n",
              "  .colab-df-quickchart-complete:disabled,\n",
              "  .colab-df-quickchart-complete:disabled:hover {\n",
              "    background-color: var(--disabled-bg-color);\n",
              "    fill: var(--disabled-fill-color);\n",
              "    box-shadow: none;\n",
              "  }\n",
              "\n",
              "  .colab-df-spinner {\n",
              "    border: 2px solid var(--fill-color);\n",
              "    border-color: transparent;\n",
              "    border-bottom-color: var(--fill-color);\n",
              "    animation:\n",
              "      spin 1s steps(1) infinite;\n",
              "  }\n",
              "\n",
              "  @keyframes spin {\n",
              "    0% {\n",
              "      border-color: transparent;\n",
              "      border-bottom-color: var(--fill-color);\n",
              "      border-left-color: var(--fill-color);\n",
              "    }\n",
              "    20% {\n",
              "      border-color: transparent;\n",
              "      border-left-color: var(--fill-color);\n",
              "      border-top-color: var(--fill-color);\n",
              "    }\n",
              "    30% {\n",
              "      border-color: transparent;\n",
              "      border-left-color: var(--fill-color);\n",
              "      border-top-color: var(--fill-color);\n",
              "      border-right-color: var(--fill-color);\n",
              "    }\n",
              "    40% {\n",
              "      border-color: transparent;\n",
              "      border-right-color: var(--fill-color);\n",
              "      border-top-color: var(--fill-color);\n",
              "    }\n",
              "    60% {\n",
              "      border-color: transparent;\n",
              "      border-right-color: var(--fill-color);\n",
              "    }\n",
              "    80% {\n",
              "      border-color: transparent;\n",
              "      border-right-color: var(--fill-color);\n",
              "      border-bottom-color: var(--fill-color);\n",
              "    }\n",
              "    90% {\n",
              "      border-color: transparent;\n",
              "      border-bottom-color: var(--fill-color);\n",
              "    }\n",
              "  }\n",
              "</style>\n",
              "\n",
              "  <script>\n",
              "    async function quickchart(key) {\n",
              "      const quickchartButtonEl =\n",
              "        document.querySelector('#' + key + ' button');\n",
              "      quickchartButtonEl.disabled = true;  // To prevent multiple clicks.\n",
              "      quickchartButtonEl.classList.add('colab-df-spinner');\n",
              "      try {\n",
              "        const charts = await google.colab.kernel.invokeFunction(\n",
              "            'suggestCharts', [key], {});\n",
              "      } catch (error) {\n",
              "        console.error('Error during call to suggestCharts:', error);\n",
              "      }\n",
              "      quickchartButtonEl.classList.remove('colab-df-spinner');\n",
              "      quickchartButtonEl.classList.add('colab-df-quickchart-complete');\n",
              "    }\n",
              "    (() => {\n",
              "      let quickchartButtonEl =\n",
              "        document.querySelector('#df-ea985afa-bdde-4a2e-87b8-43b7d89d487d button');\n",
              "      quickchartButtonEl.style.display =\n",
              "        google.colab.kernel.accessAllowed ? 'block' : 'none';\n",
              "    })();\n",
              "  </script>\n",
              "</div>\n",
              "\n",
              "  <div id=\"id_7b09071b-8cdf-4fba-8b3e-de74f1edc7d8\">\n",
              "    <style>\n",
              "      .colab-df-generate {\n",
              "        background-color: #E8F0FE;\n",
              "        border: none;\n",
              "        border-radius: 50%;\n",
              "        cursor: pointer;\n",
              "        display: none;\n",
              "        fill: #1967D2;\n",
              "        height: 32px;\n",
              "        padding: 0 0 0 0;\n",
              "        width: 32px;\n",
              "      }\n",
              "\n",
              "      .colab-df-generate:hover {\n",
              "        background-color: #E2EBFA;\n",
              "        box-shadow: 0px 1px 2px rgba(60, 64, 67, 0.3), 0px 1px 3px 1px rgba(60, 64, 67, 0.15);\n",
              "        fill: #174EA6;\n",
              "      }\n",
              "\n",
              "      [theme=dark] .colab-df-generate {\n",
              "        background-color: #3B4455;\n",
              "        fill: #D2E3FC;\n",
              "      }\n",
              "\n",
              "      [theme=dark] .colab-df-generate:hover {\n",
              "        background-color: #434B5C;\n",
              "        box-shadow: 0px 1px 3px 1px rgba(0, 0, 0, 0.15);\n",
              "        filter: drop-shadow(0px 1px 2px rgba(0, 0, 0, 0.3));\n",
              "        fill: #FFFFFF;\n",
              "      }\n",
              "    </style>\n",
              "    <button class=\"colab-df-generate\" onclick=\"generateWithVariable('df')\"\n",
              "            title=\"Generate code using this dataframe.\"\n",
              "            style=\"display:none;\">\n",
              "\n",
              "  <svg xmlns=\"http://www.w3.org/2000/svg\" height=\"24px\"viewBox=\"0 0 24 24\"\n",
              "       width=\"24px\">\n",
              "    <path d=\"M7,19H8.4L18.45,9,17,7.55,7,17.6ZM5,21V16.75L18.45,3.32a2,2,0,0,1,2.83,0l1.4,1.43a1.91,1.91,0,0,1,.58,1.4,1.91,1.91,0,0,1-.58,1.4L9.25,21ZM18.45,9,17,7.55Zm-12,3A5.31,5.31,0,0,0,4.9,8.1,5.31,5.31,0,0,0,1,6.5,5.31,5.31,0,0,0,4.9,4.9,5.31,5.31,0,0,0,6.5,1,5.31,5.31,0,0,0,8.1,4.9,5.31,5.31,0,0,0,12,6.5,5.46,5.46,0,0,0,6.5,12Z\"/>\n",
              "  </svg>\n",
              "    </button>\n",
              "    <script>\n",
              "      (() => {\n",
              "      const buttonEl =\n",
              "        document.querySelector('#id_7b09071b-8cdf-4fba-8b3e-de74f1edc7d8 button.colab-df-generate');\n",
              "      buttonEl.style.display =\n",
              "        google.colab.kernel.accessAllowed ? 'block' : 'none';\n",
              "\n",
              "      buttonEl.onclick = () => {\n",
              "        google.colab.notebook.generateWithVariable('df');\n",
              "      }\n",
              "      })();\n",
              "    </script>\n",
              "  </div>\n",
              "\n",
              "    </div>\n",
              "  </div>\n"
            ],
            "application/vnd.google.colaboratory.intrinsic+json": {
              "type": "dataframe",
              "variable_name": "df",
              "summary": "{\n  \"name\": \"df\",\n  \"rows\": 30,\n  \"fields\": [\n    {\n      \"column\": \"Rank\",\n      \"properties\": {\n        \"dtype\": \"number\",\n        \"std\": 8,\n        \"min\": 1,\n        \"max\": 30,\n        \"num_unique_values\": 30,\n        \"samples\": [\n          28,\n          16,\n          24\n        ],\n        \"semantic_type\": \"\",\n        \"description\": \"\"\n      }\n    },\n    {\n      \"column\": \"name\",\n      \"properties\": {\n        \"dtype\": \"string\",\n        \"num_unique_values\": 30,\n        \"samples\": [\n          \"South Korea\",\n          \"DR Congo\",\n          \"South Africa\"\n        ],\n        \"semantic_type\": \"\",\n        \"description\": \"\"\n      }\n    },\n    {\n      \"column\": \"pop2021\",\n      \"properties\": {\n        \"dtype\": \"number\",\n        \"std\": 3393989558,\n        \"min\": 83900730,\n        \"max\": 14442161070,\n        \"num_unique_values\": 30,\n        \"samples\": [\n          513051860,\n          923779930,\n          600419940\n        ],\n        \"semantic_type\": \"\",\n        \"description\": \"\"\n      }\n    }\n  ]\n}"
            }
          },
          "metadata": {},
          "execution_count": 15
        }
      ]
    }
  ]
}