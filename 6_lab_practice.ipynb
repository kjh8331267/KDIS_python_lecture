{
  "nbformat": 4,
  "nbformat_minor": 0,
  "metadata": {
    "colab": {
      "provenance": [],
      "include_colab_link": true
    },
    "kernelspec": {
      "name": "python3",
      "display_name": "Python 3"
    },
    "language_info": {
      "name": "python"
    }
  },
  "cells": [
    {
      "cell_type": "markdown",
      "metadata": {
        "id": "view-in-github",
        "colab_type": "text"
      },
      "source": [
        "<a href=\"https://colab.research.google.com/github/kjh8331267/KDIS_python_lecture/blob/main/6_lab_practice.ipynb\" target=\"_parent\"><img src=\"https://colab.research.google.com/assets/colab-badge.svg\" alt=\"Open In Colab\"/></a>"
      ]
    },
    {
      "cell_type": "markdown",
      "metadata": {
        "id": "iLu6ZHpdm84D"
      },
      "source": [
        "## `for` / `while`\n",
        "\n",
        "Today, we first learned how to iterate your process for a large number of data (or records). Since, computer is really good at iterative work than human workers, who become bored by doing the same things over and over, iterative process is one of the most common things we ask for computers.\n",
        "\n",
        "Let's try to make your computer do iterative works with instructions about when and where to start and stop the process.\n",
        "\n",
        "### 1. `for` Loop\n",
        "\n",
        "The `for` statement iterates through a collection or iterable object or generator function.\n",
        "When we need an iterative process, we generally have a fixed collection: a set, tuple, list, map or even a string. Any of these can be an iterable collection, where we apply a `for` loop.\n",
        "Also, we can use a `for` loop, when we have the values we want to process as a range (an actual list), by using `range()` function together.\n",
        "\n",
        "#### (1) Level 1\n",
        "Print the numbers from 4 to 11, using a `for` loop."
      ]
    },
    {
      "cell_type": "code",
      "metadata": {
        "id": "A0yq_L5YzgMY",
        "colab": {
          "base_uri": "https://localhost:8080/"
        },
        "outputId": "c73a472b-9bd9-4a5d-e775-b5f2acba7a2a"
      },
      "source": [
        "# Your code\n",
        "for i in range(4, 12):\n",
        "  print(i)"
      ],
      "execution_count": 3,
      "outputs": [
        {
          "output_type": "stream",
          "name": "stdout",
          "text": [
            "4\n",
            "5\n",
            "6\n",
            "7\n",
            "8\n",
            "9\n",
            "10\n",
            "11\n"
          ]
        }
      ]
    },
    {
      "cell_type": "markdown",
      "metadata": {
        "id": "aFOOCsdCznGK"
      },
      "source": [
        "#### (2) Level 2\n",
        "\n",
        "Creat a list of five names of your friends, called `friends_list`, as the format \"(first name) (last name)\" such as \"Jisung Yoon\".\n",
        "Then, using a `for` loop, print only the first names of your five friends.\n",
        "\n",
        "(HINT: When you have a full name as a string, you can extract the first name by using a combination of `split()` and indexing.)"
      ]
    },
    {
      "cell_type": "code",
      "metadata": {
        "id": "LPUVnxAOm63u",
        "colab": {
          "base_uri": "https://localhost:8080/"
        },
        "outputId": "46606c3b-4676-4622-e976-dc7a3ec4dd3b"
      },
      "source": [
        "# Print only the first names of your friends\n",
        "friends_list = ['jisung yoon', 'jihyeon kim']\n",
        "\n",
        "for f in friends_list:\n",
        "    print(f.split(' ')[0])"
      ],
      "execution_count": 8,
      "outputs": [
        {
          "output_type": "stream",
          "name": "stdout",
          "text": [
            "jisung\n",
            "jihyeon\n"
          ]
        }
      ]
    },
    {
      "cell_type": "markdown",
      "metadata": {
        "id": "NB60rvErxKab"
      },
      "source": [
        "### 2. `while` Loop\n",
        "\n",
        "If you don't have a fixed data structure to iterate through, or you don't have a generator function that drives your processing like `range()`, you must use `while` statement.\n",
        "\n",
        "Actually, in a lot of real-world cases, you can write your code using both `for` and `while`. However, there exists some cases where your code becomes much shorter and efficient when using `while` statement than `for` statement.\n",
        "Generally, `while` is useful in the scenarios where the break condition doesn't logically depend on any kind of sequence.\n",
        "\n",
        "For instance, assume that you want to know at what natural number the accumulated sum to the number becomes right before 10,000.\n",
        "That is, if the number is _n_, 1+2+3+...+_n_ is the number closest to 10,000, while not exceeding 10,000 (If you already know the number or calculate the number within a second, you don't need a code because you're a computer by yourself... But still, assume that you don't know the number to make the accumulated sum nearby 10,000).\n",
        "\n",
        "If you write this code using a `for` loop, you have to set the maximum number that is impossible that the _n_ is larger than this. In our example, the easiest guessing would be 10,000, because the accumulated sum to 10,000 definitely must be larger than 10,000. With this rough and lazy estimation, we can write a code using `for` loop as follows.\n"
      ]
    },
    {
      "cell_type": "code",
      "metadata": {
        "id": "7ia8CGKBAe3T",
        "colab": {
          "base_uri": "https://localhost:8080/"
        },
        "outputId": "17a93d10-3c1e-41bc-c214-ae10189c1a3c"
      },
      "source": [
        "accum_sum = 0\n",
        "\n",
        "for n in range(10000):\n",
        "  accum_sum = accum_sum + n\n",
        "  if accum_sum > 10000:\n",
        "    print(accum_sum)\n",
        "    print(n-1) # We need not n but n-1, because the accumulated sum to n is already bigger than 10,000\n",
        "    break # We don't need to keep adding when we get the answer, so use \"break\" to stop the code when satisfying the \"if\" statement."
      ],
      "execution_count": 10,
      "outputs": [
        {
          "output_type": "stream",
          "name": "stdout",
          "text": [
            "10011\n",
            "140\n"
          ]
        }
      ]
    },
    {
      "cell_type": "markdown",
      "metadata": {
        "id": "6Z6dwQSdCEhX"
      },
      "source": [
        "Can you write a code doing the same thing but using `while` loop?"
      ]
    },
    {
      "cell_type": "code",
      "metadata": {
        "id": "KJI5T7tcBXQX",
        "colab": {
          "base_uri": "https://localhost:8080/"
        },
        "outputId": "f74a41b3-6fa8-4548-e81c-a21284f9405d"
      },
      "source": [
        "accum_sum = 0\n",
        "# When you use \"for n in range(x1, x2)\", the value of n increases automatically, because of range(x),\n",
        "# which generate a list of integer numbers from x1 to x2-1.\n",
        "# But when you're using while process, you are not using the range() function,\n",
        "# so you have to set the value of n to add, and increase it by one in the loop.\n",
        "n = 0\n",
        "while accum_sum <= 10000:\n",
        "    n += 1\n",
        "    accum_sum += n\n",
        "\n",
        "print(accum_sum)\n",
        "print(n)\n"
      ],
      "execution_count": 13,
      "outputs": [
        {
          "output_type": "stream",
          "name": "stdout",
          "text": [
            "10011\n",
            "141\n"
          ]
        }
      ]
    },
    {
      "cell_type": "markdown",
      "metadata": {
        "id": "A0XlCeLDDhOA"
      },
      "source": [
        "# `try` / `except`\n",
        "\n",
        "When you write a code and run it, you often get an error because of some wrong inputs. For example, you got a long list of populations of all countries, where all population records are stored as integers, except a couple of numbers stored as strings such as \"2308123\".\n",
        "\n",
        "If you write and run a `for` loop to iteratively sum all the numbers in the list, you will probably get an error because of the string formatted numbers.\n",
        "Check if it's true:"
      ]
    },
    {
      "cell_type": "code",
      "metadata": {
        "id": "YmCeqQtECjBI",
        "colab": {
          "base_uri": "https://localhost:8080/",
          "height": 216
        },
        "outputId": "786064fd-bfa2-415d-e94c-590bc54f8f13"
      },
      "source": [
        "number_list = [234,456,45,234,14123445,1234342,856,48556,34514,\"7\",55876,75678353,\"8857436\",23535]\n",
        "\n",
        "num_sum = 0\n",
        "for i in number_list:\n",
        "  num_sum = num_sum + i\n",
        "\n",
        "print(num_sum)\n"
      ],
      "execution_count": 14,
      "outputs": [
        {
          "output_type": "error",
          "ename": "TypeError",
          "evalue": "unsupported operand type(s) for +: 'int' and 'str'",
          "traceback": [
            "\u001b[0;31m---------------------------------------------------------------------------\u001b[0m",
            "\u001b[0;31mTypeError\u001b[0m                                 Traceback (most recent call last)",
            "\u001b[0;32m<ipython-input-14-c4951ed4fd6d>\u001b[0m in \u001b[0;36m<cell line: 4>\u001b[0;34m()\u001b[0m\n\u001b[1;32m      3\u001b[0m \u001b[0mnum_sum\u001b[0m \u001b[0;34m=\u001b[0m \u001b[0;36m0\u001b[0m\u001b[0;34m\u001b[0m\u001b[0;34m\u001b[0m\u001b[0m\n\u001b[1;32m      4\u001b[0m \u001b[0;32mfor\u001b[0m \u001b[0mi\u001b[0m \u001b[0;32min\u001b[0m \u001b[0mnumber_list\u001b[0m\u001b[0;34m:\u001b[0m\u001b[0;34m\u001b[0m\u001b[0;34m\u001b[0m\u001b[0m\n\u001b[0;32m----> 5\u001b[0;31m   \u001b[0mnum_sum\u001b[0m \u001b[0;34m=\u001b[0m \u001b[0mnum_sum\u001b[0m \u001b[0;34m+\u001b[0m \u001b[0mi\u001b[0m\u001b[0;34m\u001b[0m\u001b[0;34m\u001b[0m\u001b[0m\n\u001b[0m\u001b[1;32m      6\u001b[0m \u001b[0;34m\u001b[0m\u001b[0m\n\u001b[1;32m      7\u001b[0m \u001b[0mprint\u001b[0m\u001b[0;34m(\u001b[0m\u001b[0mnum_sum\u001b[0m\u001b[0;34m)\u001b[0m\u001b[0;34m\u001b[0m\u001b[0;34m\u001b[0m\u001b[0m\n",
            "\u001b[0;31mTypeError\u001b[0m: unsupported operand type(s) for +: 'int' and 'str'"
          ]
        }
      ]
    },
    {
      "cell_type": "markdown",
      "metadata": {
        "id": "Zx5AzvxHTX7B"
      },
      "source": [
        "### (1) Level 1\n",
        "\n",
        "For the numbers in the `number_list`, you want to add all the numbers while ignoring the strings.\n",
        "By using `try` and `except` statement, can you modify the above code to do that?\n",
        "(HINT: You can use the commands `continue` and `pass` to ignore the current iteration in in the `except` situation, like [this Q&A in Stackoverflow](https://stackoverflow.com/questions/19522990/python-catch-exception-and-continue-try-block))"
      ]
    },
    {
      "cell_type": "code",
      "metadata": {
        "id": "NPV8sVUsQiWH",
        "colab": {
          "base_uri": "https://localhost:8080/"
        },
        "outputId": "07957afb-e786-4a56-a234-3336b3719665"
      },
      "source": [
        "number_list = [234,456,45,234,14123445,1234342,856,48556,34514,\"7\",55876,75678353,\"8857436\",23535]\n",
        "\n",
        "num_sum = 0\n",
        "for i in number_list:\n",
        "    try:\n",
        "        num_sum = num_sum + i\n",
        "    except:\n",
        "        pass\n",
        "print(num_sum)\n"
      ],
      "execution_count": 17,
      "outputs": [
        {
          "output_type": "stream",
          "name": "stdout",
          "text": [
            "91200446\n"
          ]
        }
      ]
    },
    {
      "cell_type": "markdown",
      "metadata": {
        "id": "hQsE9ootylIS"
      },
      "source": [
        "### (2) Level 2\n",
        "\n",
        "Let's try a little more challenging task. In the above situation, what you initially wanted was not the sum of all the numbers only stored as integers but the sum of all the numbers in the list regardless of their stored types.\n",
        "Then, can you modify the `except` part, so the numbers formatted as strings are also added to the result, after converting them to integer?"
      ]
    },
    {
      "cell_type": "code",
      "metadata": {
        "id": "iNU2UVJZymSi",
        "colab": {
          "base_uri": "https://localhost:8080/"
        },
        "outputId": "11d35081-15a2-4d08-d15b-9e6d6a7cc2dc"
      },
      "source": [
        "number_list = [234,456,45,234,14123445,1234342,856,48556,34514,\"7\",55876,75678353,\"8857436\",23535]\n",
        "\n",
        "num_sum = 0\n",
        "for i in number_list:\n",
        "    try:\n",
        "        num_sum = num_sum + i\n",
        "    except:\n",
        "        num_sum = num_sum + int(i)\n",
        "print(num_sum)\n"
      ],
      "execution_count": 18,
      "outputs": [
        {
          "output_type": "stream",
          "name": "stdout",
          "text": [
            "100057889\n"
          ]
        }
      ]
    }
  ]
}