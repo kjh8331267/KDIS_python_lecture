{
  "cells": [
    {
      "cell_type": "markdown",
      "metadata": {
        "id": "view-in-github",
        "colab_type": "text"
      },
      "source": [
        "<a href=\"https://colab.research.google.com/github/kjh8331267/KDIS_python_lecture/blob/main/1_lab_practice.ipynb\" target=\"_parent\"><img src=\"https://colab.research.google.com/assets/colab-badge.svg\" alt=\"Open In Colab\"/></a>"
      ]
    },
    {
      "cell_type": "markdown",
      "metadata": {
        "id": "qBexAHM4Odle"
      },
      "source": [
        "# 1. Test\n",
        "\n",
        "- Can you see this sentence?\n",
        "- Welcome to Google Colab!\n",
        "- This cell is for text.\n"
      ]
    },
    {
      "cell_type": "code",
      "execution_count": null,
      "metadata": {
        "colab": {
          "base_uri": "https://localhost:8080/"
        },
        "id": "NsXMfRxGOd67",
        "outputId": "590c99ab-5265-4b02-e67c-da14de85add3"
      },
      "outputs": [
        {
          "name": "stdout",
          "output_type": "stream",
          "text": [
            "See, this is how you print text using Python code.\n",
            "10\n"
          ]
        }
      ],
      "source": [
        "# Here's for the code: Unless you add # mark at the beginning of a line, Jupyter Notebook understands the text here as code.\n",
        "# For example,\n",
        "\n",
        "print(\"See, this is how you print text using Python code.\")\n",
        "print(4+6)"
      ]
    },
    {
      "cell_type": "markdown",
      "metadata": {
        "id": "gOxlzAZ9Tpqc"
      },
      "source": [
        "Now, play with the command `print()` more. By modifying the above Python commands, print out your own name and short introduction!"
      ]
    },
    {
      "cell_type": "code",
      "execution_count": null,
      "metadata": {
        "id": "VpOZgX-3tKdr"
      },
      "outputs": [],
      "source": []
    },
    {
      "cell_type": "code",
      "execution_count": null,
      "metadata": {
        "id": "oITxo3ifPVIf"
      },
      "outputs": [],
      "source": []
    }
  ],
  "metadata": {
    "colab": {
      "provenance": [],
      "include_colab_link": true
    },
    "kernelspec": {
      "display_name": "Python 3",
      "language": "python",
      "name": "python3"
    },
    "language_info": {
      "codemirror_mode": {
        "name": "ipython",
        "version": 3
      },
      "file_extension": ".py",
      "mimetype": "text/x-python",
      "name": "python",
      "nbconvert_exporter": "python",
      "pygments_lexer": "ipython3",
      "version": "3.8.5"
    }
  },
  "nbformat": 4,
  "nbformat_minor": 0
}